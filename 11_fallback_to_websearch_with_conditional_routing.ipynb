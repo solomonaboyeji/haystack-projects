{
 "cells": [
  {
   "cell_type": "markdown",
   "metadata": {},
   "source": [
    "# Building Fallbacks to Websearch with Conditional Routing\n",
    "\n",
    "Retrieval Step is crucial in RAG applications, if retrieval step does not have access to enough information or document, this render the retrieval to be limited. A practical solution is to fall back to Web Search. Routing allows us to do this, where we leverage web as the data source on some conditions.\n",
    "\n",
    "We will create a pipeline that has conditional routing that directs the query to a `web-based RAG` route if the answer is not found in the initially given documents."
   ]
  },
  {
   "cell_type": "code",
   "execution_count": 13,
   "metadata": {},
   "outputs": [],
   "source": [
    "import os\n",
    "from dotenv import load_dotenv\n",
    "\n",
    "load_dotenv()\n",
    "\n",
    "if os.getenv(\"OPENAI_API_KEY\") is None:\n",
    "    raise ValueError(\"OPENAI_API_KEY is not present\")\n",
    "\n",
    "\n",
    "if os.getenv(\"SERPERDEV_API_KEY\") is None:\n",
    "    raise ValueError(\"Serper API Key is not present\")"
   ]
  },
  {
   "cell_type": "markdown",
   "metadata": {},
   "source": [
    "#### Creating a Document\n",
    "\n",
    "This is a document about Munich, where the answer to the question will be initally searched."
   ]
  },
  {
   "cell_type": "code",
   "execution_count": 14,
   "metadata": {},
   "outputs": [],
   "source": [
    "from haystack.dataclasses import Document\n",
    "\n",
    "documents = [\n",
    "    Document(content=\"\"\"\n",
    "             Munich, the vibrant capital of Bavaria in southern Germany, exudes a perfect blend of rich cultural\n",
    "                                heritage and modern urban sophistication. Nestled along the banks of the Isar River, Munich is renowned\n",
    "                                for its splendid architecture, including the iconic Neues Rathaus (New Town Hall) at Marienplatz and\n",
    "                                the grandeur of Nymphenburg Palace. The city is a haven for art enthusiasts, with world-class museums like the\n",
    "                                Alte Pinakothek housing masterpieces by renowned artists. Munich is also famous for its lively beer gardens, where\n",
    "                                locals and tourists gather to enjoy the city's famed beers and traditional Bavarian cuisine. The city's annual\n",
    "                                Oktoberfest celebration, the world's largest beer festival, attracts millions of visitors from around the globe.\n",
    "                                Beyond its cultural and culinary delights, Munich offers picturesque parks like the English Garden, providing a\n",
    "                                serene escape within the heart of the bustling metropolis. Visitors are charmed by Munich's warm hospitality,\n",
    "                                making it a must-visit destination for travelers seeking a taste of both old-world charm and contemporary allure.\n",
    "             \"\"\")\n",
    "]"
   ]
  },
  {
   "cell_type": "markdown",
   "metadata": {},
   "source": [
    "#### Creating Initial Pipeline Components\n",
    "\n",
    "Below we instruct the model to return with `no_answer` if it does not know the answer to the question. This works well with the model `gpt-3.5-turbo`. If we use another Generator we need to ensure the prompt is clear for the model to obey such instructions."
   ]
  },
  {
   "cell_type": "code",
   "execution_count": 15,
   "metadata": {},
   "outputs": [],
   "source": [
    "from haystack.components.builders.prompt_builder import PromptBuilder\n",
    "from haystack.components.generators import OpenAIGenerator\n",
    "\n",
    "prompt_template = \"\"\"\n",
    "Answer the following query given the documents.\n",
    "If the answer is not container within the document reply with 'no_answer'.\n",
    "Query: {{query}}\n",
    "Documents:\n",
    "{% for document in documents %}\n",
    "    {{ document.content }}\n",
    "{% endfor %}\n",
    "\"\"\"\n",
    "\n",
    "prompt_builder = PromptBuilder(template=prompt_template)\n",
    "llm = OpenAIGenerator(model=\"gpt-3.5-turbo\")"
   ]
  },
  {
   "cell_type": "markdown",
   "metadata": {},
   "source": [
    "#### Initializing the Web Search Components"
   ]
  },
  {
   "cell_type": "code",
   "execution_count": 16,
   "metadata": {},
   "outputs": [],
   "source": [
    "from haystack.components.builders.prompt_builder import PromptBuilder\n",
    "from haystack.components.generators import OpenAIGenerator\n",
    "from haystack.components.websearch.serper_dev import SerperDevWebSearch\n",
    "\n",
    "prompt_for_websearch = \"\"\"\n",
    "Answer the following query given the documents retrievd from the web.\n",
    "Your answer should indicate that your answer was generated from websearch.\n",
    "\n",
    "Query: {{ query }}\n",
    "Documents:\n",
    "{% for document in documents %}\n",
    "    {{ document.content }}\n",
    "{% endfor %}\n",
    "\"\"\"\n",
    "\n",
    "websearch = SerperDevWebSearch()\n",
    "prompt_builder_for_websearch = PromptBuilder(template=prompt_for_websearch)\n",
    "llm_for_websearch = OpenAIGenerator(model=\"gpt-3.5-turbo\")"
   ]
  },
  {
   "cell_type": "markdown",
   "metadata": {},
   "source": [
    "#### Creating the ConditionalRouter\n",
    "\n",
    "`ConditionalRouter` handles data routing on specific conditions. The condition is a Jinja2 string expression that determines if the route is selected. \n",
    "\n",
    "In this example, we have two routes\n",
    "1. If the LLM replies with the `no_answer` keyword, the pipeline should perform web search\n",
    "2. Otherwise, the given documents are enough for an answer and pipeline execution ends here."
   ]
  },
  {
   "cell_type": "code",
   "execution_count": 17,
   "metadata": {},
   "outputs": [],
   "source": [
    "from haystack.components.routers import ConditionalRouter\n",
    "\n",
    "routes = [\n",
    "    {  \n",
    "        \"condition\": \"{{ 'no_answer' in replies[0] }}\",\n",
    "        \"output\": \"{{ query }}\", # we pass the query as the input of the next pipeline\n",
    "        \"output_name\": \"go_to_websearch\",\n",
    "        \"output_type\": str\n",
    "    },\n",
    "    {\n",
    "        \"condition\": \"{{ 'no_answer' not in replies[0] }}\",\n",
    "        \"output\": \"{{ replies[0] }}\", # we pass the answer instead\n",
    "        \"output_name\": \"answer\",\n",
    "        \"output_type\": str\n",
    "    }\n",
    "]\n",
    "\n",
    "router = ConditionalRouter(routes)"
   ]
  },
  {
   "cell_type": "markdown",
   "metadata": {},
   "source": [
    "#### Building the Pipeline\n",
    "\n",
    "Add all components to the pipeline and connect them!\n",
    "\n",
    "`go_to_websearch` output of the router should be connected to the `websearch` to retrieve documents from the web and also to `prompt_builder_for_websearch` to use in the prompt."
   ]
  },
  {
   "cell_type": "code",
   "execution_count": 18,
   "metadata": {},
   "outputs": [
    {
     "data": {
      "text/plain": [
       "<haystack.core.pipeline.pipeline.Pipeline object at 0x7d548b152c90>\n",
       "🚅 Components\n",
       "  - prompt_builder: PromptBuilder\n",
       "  - llm: OpenAIGenerator\n",
       "  - router: ConditionalRouter\n",
       "  - websearch: SerperDevWebSearch\n",
       "  - prompt_builder_for_websearch: PromptBuilder\n",
       "  - llm_for_websearch: OpenAIGenerator\n",
       "🛤️ Connections\n",
       "  - prompt_builder.prompt -> llm.prompt (str)\n",
       "  - llm.replies -> router.replies (List[str])\n",
       "  - router.go_to_websearch -> websearch.query (str)\n",
       "  - router.go_to_websearch -> prompt_builder_for_websearch.query (str)\n",
       "  - websearch.documents -> prompt_builder_for_websearch.documents (List[Document])\n",
       "  - prompt_builder_for_websearch.prompt -> llm_for_websearch.prompt (str)"
      ]
     },
     "execution_count": 18,
     "metadata": {},
     "output_type": "execute_result"
    }
   ],
   "source": [
    "from haystack import Pipeline\n",
    "\n",
    "pipe = Pipeline()\n",
    "pipe.add_component(\"prompt_builder\", prompt_builder)\n",
    "pipe.add_component(\"llm\", llm)\n",
    "pipe.add_component(\"router\", router)\n",
    "pipe.add_component(\"websearch\", websearch)\n",
    "pipe.add_component(\"prompt_builder_for_websearch\", prompt_builder_for_websearch)\n",
    "pipe.add_component(\"llm_for_websearch\", llm_for_websearch)\n",
    "\n",
    "pipe.connect(\"prompt_builder\", \"llm\")\n",
    "pipe.connect(\"llm.replies\", \"router.replies\")\n",
    "pipe.connect(\"router.go_to_websearch\", \"websearch.query\")\n",
    "pipe.connect(\"router.go_to_websearch\", \"prompt_builder_for_websearch.query\")\n",
    "pipe.connect(\"websearch.documents\", \"prompt_builder_for_websearch.documents\")\n",
    "pipe.connect(\"prompt_builder_for_websearch\", \"llm_for_websearch\")"
   ]
  },
  {
   "cell_type": "markdown",
   "metadata": {},
   "source": [
    "##### Visualize the Pipeline\n",
    "This will create a pipe.png file in the directory"
   ]
  },
  {
   "cell_type": "code",
   "execution_count": 19,
   "metadata": {},
   "outputs": [],
   "source": [
    "pipe.draw(\"pipe.png\")"
   ]
  },
  {
   "cell_type": "markdown",
   "metadata": {},
   "source": [
    "#### Running the Pipeline"
   ]
  },
  {
   "cell_type": "code",
   "execution_count": 27,
   "metadata": {},
   "outputs": [
    {
     "name": "stdout",
     "output_type": "stream",
     "text": [
      "Munich is located in southern Germany.\n"
     ]
    }
   ],
   "source": [
    "query = \"Where is Munich?\"\n",
    "\n",
    "result = pipe.run({\n",
    "    \"prompt_builder\": {\n",
    "        \"query\": query,\n",
    "        \"documents\": documents\n",
    "    },\n",
    "    \"router\": {\n",
    "        \"query\": query\n",
    "    }\n",
    "})\n",
    "\n",
    "# Print the `answer` coming from the ConditionalRouter\n",
    "# We have `router` key, hence the result is there\n",
    "print(result['router']['answer'])"
   ]
  },
  {
   "cell_type": "code",
   "execution_count": 28,
   "metadata": {},
   "outputs": [
    {
     "data": {
      "text/plain": [
       "{'llm': {'meta': [{'model': 'gpt-3.5-turbo-0125',\n",
       "    'index': 0,\n",
       "    'finish_reason': 'stop',\n",
       "    'usage': {'completion_tokens': 9,\n",
       "     'prompt_tokens': 270,\n",
       "     'total_tokens': 279}}]},\n",
       " 'router': {'answer': 'Munich is located in southern Germany.'},\n",
       " 'llm_for_websearch': {'replies': ['I am happy to help with your query. Could you please provide me with the documents retrieved from the web so I can generate an answer for you?'],\n",
       "  'meta': [{'model': 'gpt-3.5-turbo-0125',\n",
       "    'index': 0,\n",
       "    'finish_reason': 'stop',\n",
       "    'usage': {'completion_tokens': 30,\n",
       "     'prompt_tokens': 39,\n",
       "     'total_tokens': 69}}]}}"
      ]
     },
     "execution_count": 28,
     "metadata": {},
     "output_type": "execute_result"
    }
   ],
   "source": [
    "result"
   ]
  },
  {
   "cell_type": "code",
   "execution_count": 32,
   "metadata": {},
   "outputs": [
    {
     "name": "stdout",
     "output_type": "stream",
     "text": [
      "['According to the documents retrieved from the web, the population of Munich varies slightly depending on the source and year, but the estimates range from around 1.35 million to 1.59 million as of 2024.']\n"
     ]
    }
   ],
   "source": [
    "query = \"How many people live in Munich?\"\n",
    "\n",
    "result = pipe.run({\n",
    "    \"prompt_builder\": {\n",
    "        \"query\": query,\n",
    "        \"documents\": documents\n",
    "    },\n",
    "    \"router\": {\n",
    "        \"query\": query\n",
    "    }\n",
    "})\n",
    "\n",
    "\n",
    "\n",
    "# Print the `replies` generated using the web searched Documents\n",
    "# The `websearch` key is present and the `router`` key is absent\n",
    "print(result['llm_for_websearch']['replies'])"
   ]
  },
  {
   "cell_type": "code",
   "execution_count": 33,
   "metadata": {},
   "outputs": [
    {
     "data": {
      "text/plain": [
       "{'llm': {'meta': [{'model': 'gpt-3.5-turbo-0125',\n",
       "    'index': 0,\n",
       "    'finish_reason': 'stop',\n",
       "    'usage': {'completion_tokens': 2,\n",
       "     'prompt_tokens': 273,\n",
       "     'total_tokens': 275}}]},\n",
       " 'websearch': {'links': ['https://en.wikipedia.org/wiki/Munich',\n",
       "   'https://worldpopulationreview.com/world-cities/munich-population',\n",
       "   'https://www.macrotrends.net/global-metrics/cities/204371/munich/population',\n",
       "   'https://en.wikipedia.org/wiki/Demographics_of_Munich',\n",
       "   'https://www.statista.com/statistics/505774/munich-population/',\n",
       "   'https://www.britannica.com/place/Munich-Bavaria-Germany',\n",
       "   'https://www.statista.com/statistics/519723/munich-population-by-age-group/',\n",
       "   'https://eurocities.eu/cities/munich/',\n",
       "   'https://www.ricksteves.com/watch-read-listen/read/articles/munich-a-metropolis-with-smalltown-charm',\n",
       "   'https://www.quora.com/How-many-people-live-in-Munich']},\n",
       " 'llm_for_websearch': {'replies': ['According to the documents retrieved from the web, the population of Munich varies slightly depending on the source and year, but the estimates range from around 1.35 million to 1.59 million as of 2024.'],\n",
       "  'meta': [{'model': 'gpt-3.5-turbo-0125',\n",
       "    'index': 0,\n",
       "    'finish_reason': 'stop',\n",
       "    'usage': {'completion_tokens': 45,\n",
       "     'prompt_tokens': 394,\n",
       "     'total_tokens': 439}}]}}"
      ]
     },
     "execution_count": 33,
     "metadata": {},
     "output_type": "execute_result"
    }
   ],
   "source": [
    "result"
   ]
  }
 ],
 "metadata": {
  "kernelspec": {
   "display_name": "env",
   "language": "python",
   "name": "python3"
  },
  "language_info": {
   "codemirror_mode": {
    "name": "ipython",
    "version": 3
   },
   "file_extension": ".py",
   "mimetype": "text/x-python",
   "name": "python",
   "nbconvert_exporter": "python",
   "pygments_lexer": "ipython3",
   "version": "3.11.5"
  }
 },
 "nbformat": 4,
 "nbformat_minor": 2
}
