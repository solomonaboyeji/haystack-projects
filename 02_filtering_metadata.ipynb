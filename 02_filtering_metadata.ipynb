{
 "cells": [
  {
   "cell_type": "markdown",
   "metadata": {},
   "source": [
    "# Filtering Documents with Metadata.\n",
    "Metadata helps to keep additional information about documents. Most can be tailored to the specific documents that matches some criteria. We use filters to limit the scope of the search."
   ]
  },
  {
   "cell_type": "markdown",
   "metadata": {},
   "source": [
    "### Preparing the Documents\n",
    "Pure Vector Databases\n",
    "1. Pinecone\n",
    "2. Marqo\n",
    "3. Milvus\n",
    "4. Chroma\n",
    "5. drant\n",
    "6. Weaviate\n",
    "\n",
    "Full-text search database\n",
    "1. elasticsearch\n",
    "2. OpenSearch\n",
    "\n",
    "Vector-capable SQL databases\n",
    "\n",
    "These are not as performant as the previous categories. Use it if you want to maintain a single database instance for your application.\n",
    "1. pgvector for PostgreSQL\n",
    "\n",
    "Vector-capable NoSQL databases\n",
    "\n",
    "These are not as performant as the previous categories. Use it if you want to maintain a single database instance for your application.\n",
    "\n",
    "1. MongoDB\n",
    "2. Astra\n",
    "3. neo4j\n",
    "\n",
    "In Memory document stores are fast, for minimal prototypes on small datasets"
   ]
  },
  {
   "cell_type": "code",
   "execution_count": 2,
   "metadata": {},
   "outputs": [
    {
     "data": {
      "text/plain": [
       "3"
      ]
     },
     "execution_count": 2,
     "metadata": {},
     "output_type": "execute_result"
    }
   ],
   "source": [
    "from datetime import datetime\n",
    "\n",
    "from haystack import Document\n",
    "from haystack.document_stores.in_memory import InMemoryDocumentStore\n",
    "from haystack.components.retrievers.in_memory import InMemoryBM25Retriever\n",
    "\n",
    "\n",
    "documents = [\n",
    "    Document(\n",
    "        content=\"Use pip to install a basic version of Haystack's latest release: pip install farm-haystack. All the core Haystack components live in the haystack repo. But there's also the haystack-extras repo which contains components that are not as widely used, and you need to install them separately.\",\n",
    "        meta={\"version\": 1.15, \"date\": datetime(2023, 3, 30)},\n",
    "    ),\n",
    "    Document(\n",
    "        content=\"Use pip to install a basic version of Haystack's latest release: pip install farm-haystack[inference]. All the core Haystack components live in the haystack repo. But there's also the haystack-extras repo which contains components that are not as widely used, and you need to install them separately.\",\n",
    "        meta={\"version\": 1.22, \"date\": datetime(2023, 11, 7)},\n",
    "    ),\n",
    "    Document(\n",
    "        content=\"Use pip to install only the Haystack 2.0 code: pip install haystack-ai. The haystack-ai package is built on the main branch which is an unstable beta version, but it's useful if you want to try the new features as soon as they are merged.\",\n",
    "        meta={\"version\": 2.0, \"date\": datetime(2023, 12, 4)},\n",
    "    ),\n",
    "]\n",
    "\n",
    "document_store = InMemoryDocumentStore(bm25_algorithm=\"BM25Plus\")\n",
    "document_store.write_documents(documents=documents)"
   ]
  },
  {
   "cell_type": "markdown",
   "metadata": {},
   "source": [
    "### Building a Document Search Pipeline\n",
    "Build a simple document search pipeline, that simply has a retriever. However you can also change this pipeline to do more such as generating answers to questions etc."
   ]
  },
  {
   "cell_type": "code",
   "execution_count": 3,
   "metadata": {},
   "outputs": [],
   "source": [
    "from haystack import Pipeline\n",
    "\n",
    "pipeline = Pipeline()\n",
    "pipeline.add_component(instance=InMemoryBM25Retriever(document_store=document_store), name=\"retriever\")"
   ]
  },
  {
   "cell_type": "markdown",
   "metadata": {},
   "source": [
    "### Do Metadata Filtering\n",
    "\"version\" > 1.2.1"
   ]
  },
  {
   "cell_type": "code",
   "execution_count": 7,
   "metadata": {},
   "outputs": [
    {
     "data": {
      "text/plain": [
       "{'retriever': {'documents': [Document(id=b53625c67fee5ba5ac6dc86e7ca0adff567bf8376e86ae4b3fc6f6f858ccf1e5, content: 'Use pip to install a basic version of Haystack's latest release: pip install farm-haystack[inference...', meta: {'version': 1.22, 'date': datetime.datetime(2023, 11, 7, 0, 0)}, score: 0.37481165807926137),\n",
       "   Document(id=8ac1f8119bdec5c898d5a5c69f49ff47f64056bce1a0f95073e34493bbaf9354, content: 'Use pip to install only the Haystack 2.0 code: pip install haystack-ai. The haystack-ai package is b...', meta: {'version': 2.0, 'date': datetime.datetime(2023, 12, 4, 0, 0)}, score: 0.34124689226266874)]}}"
      ]
     },
     "execution_count": 7,
     "metadata": {},
     "output_type": "execute_result"
    }
   ],
   "source": [
    "query = \"Haystack installation\"\n",
    "pipeline.run(data={\n",
    "    \"retriever\": {\n",
    "        \"query\": query,\n",
    "        \"filters\": {\n",
    "            \"field\": \"meta.version\",\n",
    "            \"operator\": \">\",\n",
    "            \"value\": 1.21\n",
    "        }\n",
    "    }\n",
    "})"
   ]
  },
  {
   "cell_type": "markdown",
   "metadata": {},
   "source": [
    "##### Adding Logical conditions"
   ]
  },
  {
   "cell_type": "code",
   "execution_count": 11,
   "metadata": {},
   "outputs": [
    {
     "data": {
      "text/plain": [
       "{'retriever': {'documents': [Document(id=8ac1f8119bdec5c898d5a5c69f49ff47f64056bce1a0f95073e34493bbaf9354, content: 'Use pip to install only the Haystack 2.0 code: pip install haystack-ai. The haystack-ai package is b...', meta: {'version': 2.0, 'date': datetime.datetime(2023, 12, 4, 0, 0)}, score: 0.34124689226266874)]}}"
      ]
     },
     "execution_count": 11,
     "metadata": {},
     "output_type": "execute_result"
    }
   ],
   "source": [
    "# AND logical operator, others include `NOT` `OR` `AND`\n",
    "query = \"Haystack installation\"\n",
    "pipeline.run(data={\n",
    "    \"retriever\": {\n",
    "        \"query\": query,\n",
    "        \"filters\": {\n",
    "            \"operator\": \"AND\",\n",
    "            \"conditions\": [\n",
    "                {\n",
    "                    \"field\": \"meta.version\",\n",
    "                    \"operator\": \">\",\n",
    "                    \"value\": 1.21\n",
    "                },\n",
    "                {\n",
    "                    \"field\": \"meta.date\",\n",
    "                    \"operator\": \">\",\n",
    "                    \"value\": datetime(2023, 11, 7)\n",
    "                }\n",
    "            ]\n",
    "        }\n",
    "    }\n",
    "})"
   ]
  },
  {
   "cell_type": "code",
   "execution_count": 9,
   "metadata": {},
   "outputs": [
    {
     "data": {
      "text/plain": [
       "{'retriever': {'documents': [Document(id=3d3b2afa171bee3bbff4a94baaec239f9d28bba333114a08ad6d0b684710a3be, content: 'Use pip to install a basic version of Haystack's latest release: pip install farm-haystack. All the ...', meta: {'version': 1.15, 'date': datetime.datetime(2023, 3, 30, 0, 0)}, score: 0.37593796637235916),\n",
       "   Document(id=b53625c67fee5ba5ac6dc86e7ca0adff567bf8376e86ae4b3fc6f6f858ccf1e5, content: 'Use pip to install a basic version of Haystack's latest release: pip install farm-haystack[inference...', meta: {'version': 1.22, 'date': datetime.datetime(2023, 11, 7, 0, 0)}, score: 0.37481165807926137)]}}"
      ]
     },
     "execution_count": 9,
     "metadata": {},
     "output_type": "execute_result"
    }
   ],
   "source": [
    "# in comparison\n",
    "query = \"Haystack installation\"\n",
    "pipeline.run(data={\n",
    "    \"retriever\": {\n",
    "        \"query\": query,\n",
    "        \"filters\": {\n",
    "            \"field\": \"meta.version\",\n",
    "            \"operator\": \"in\",\n",
    "            \"value\": [1.15, 1.22]\n",
    "        }\n",
    "    }\n",
    "})"
   ]
  },
  {
   "cell_type": "code",
   "execution_count": 10,
   "metadata": {},
   "outputs": [
    {
     "data": {
      "text/plain": [
       "{'retriever': {'documents': [Document(id=8ac1f8119bdec5c898d5a5c69f49ff47f64056bce1a0f95073e34493bbaf9354, content: 'Use pip to install only the Haystack 2.0 code: pip install haystack-ai. The haystack-ai package is b...', meta: {'version': 2.0, 'date': datetime.datetime(2023, 12, 4, 0, 0)}, score: 0.34124689226266874)]}}"
      ]
     },
     "execution_count": 10,
     "metadata": {},
     "output_type": "execute_result"
    }
   ],
   "source": [
    "# not in comparison\n",
    "query = \"Haystack installation\"\n",
    "pipeline.run(data={\n",
    "    \"retriever\": {\n",
    "        \"query\": query,\n",
    "        \"filters\": {\n",
    "            \"field\": \"meta.version\",\n",
    "            \"operator\": \"not in\",\n",
    "            \"value\": [1.15, 1.22]\n",
    "        }\n",
    "    }\n",
    "})"
   ]
  }
 ],
 "metadata": {
  "kernelspec": {
   "display_name": "env",
   "language": "python",
   "name": "python3"
  },
  "language_info": {
   "codemirror_mode": {
    "name": "ipython",
    "version": 3
   },
   "file_extension": ".py",
   "mimetype": "text/x-python",
   "name": "python",
   "nbconvert_exporter": "python",
   "pygments_lexer": "ipython3",
   "version": "3.11.5"
  }
 },
 "nbformat": 4,
 "nbformat_minor": 2
}
