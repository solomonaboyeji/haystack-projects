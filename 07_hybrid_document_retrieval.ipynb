{
 "cells": [
  {
   "cell_type": "markdown",
   "metadata": {},
   "source": [
    "# Hybrid Retrieval Pipeline\n",
    "Combining the keyword-based and embedding-based retrieval techniques, leveraging the strenghts of both approaches. \n",
    "\n",
    "Keyword-Based (TFDF, BM25) is the sparse retrieval which excels in matching keywords.\n",
    "\n",
    "Embedding-Based is the dense embeddings, which excel in grasping the contextual nuances of the query."
   ]
  },
  {
   "cell_type": "code",
   "execution_count": 25,
   "metadata": {},
   "outputs": [],
   "source": [
    "from haystack.document_stores.in_memory import InMemoryDocumentStore\n",
    "\n",
    "document_store = InMemoryDocumentStore()"
   ]
  },
  {
   "cell_type": "markdown",
   "metadata": {},
   "source": [
    "#### Fetching and Processing Documents\n",
    "Using the PubMed Abstract Papers"
   ]
  },
  {
   "cell_type": "code",
   "execution_count": 26,
   "metadata": {},
   "outputs": [],
   "source": [
    "from datasets import load_dataset\n",
    "from haystack import Document\n",
    "\n",
    "dataset = load_dataset(\"anakin87/medrag-pubmed-chunk\", split=\"train\")\n",
    "\n",
    "docs = []\n",
    "for doc in dataset:\n",
    "    docs.append(\n",
    "        Document(content=doc[\"contents\"], meta={\n",
    "            \"title\": doc[\"title\"],\n",
    "            \"abstract\": doc[\"content\"],\n",
    "            \"pmid\": doc[\"id\"]\n",
    "        })\n",
    "    )"
   ]
  },
  {
   "cell_type": "markdown",
   "metadata": {},
   "source": [
    "#### Indexing Documents with Pipeline\n",
    "We then create a pipeline to store the data in the document store with their embedding.\n",
    "\n",
    "\n",
    "The pipeline we will use a DocumentSplitter to split documents into chunks of 512 words. We use 512 here because this is the token limit of the model BAAI/bge-small-end-v1.5. Update the limit based on the model you are using."
   ]
  },
  {
   "cell_type": "code",
   "execution_count": 27,
   "metadata": {},
   "outputs": [
    {
     "name": "stderr",
     "output_type": "stream",
     "text": [
      "Batches: 100%|██████████| 481/481 [00:35<00:00, 13.40it/s]\n"
     ]
    },
    {
     "data": {
      "text/plain": [
       "{'document_writer': {'documents_written': 15380}}"
      ]
     },
     "execution_count": 27,
     "metadata": {},
     "output_type": "execute_result"
    }
   ],
   "source": [
    "from haystack.components.writers import DocumentWriter\n",
    "from haystack.components.embedders import SentenceTransformersDocumentEmbedder\n",
    "from haystack.components.preprocessors.document_splitter import DocumentSplitter\n",
    "from haystack import Pipeline\n",
    "from haystack.utils import ComponentDevice\n",
    "\n",
    "document_splitter = DocumentSplitter(split_by=\"word\", split_length=512, split_overlap=32 )\n",
    "document_embedder = SentenceTransformersDocumentEmbedder(\n",
    "    model=\"BAAI/bge-small-en-v1.5\", device=ComponentDevice.from_str(\"cuda:0\")\n",
    ")\n",
    "document_writer = DocumentWriter(document_store)\n",
    "\n",
    "indexing_pipeline = Pipeline()\n",
    "indexing_pipeline.add_component(\"document_splitter\", document_splitter)\n",
    "indexing_pipeline.add_component(\"document_embedder\", document_embedder)\n",
    "indexing_pipeline.add_component(\"document_writer\", document_writer)\n",
    "\n",
    "indexing_pipeline.connect(\"document_splitter\", \"document_embedder\")\n",
    "indexing_pipeline.connect(\"document_embedder\", \"document_writer\")\n",
    "\n",
    "indexing_pipeline.run({\n",
    "    \"document_splitter\": {\n",
    "        \"documents\": docs\n",
    "    }\n",
    "})"
   ]
  },
  {
   "cell_type": "markdown",
   "metadata": {},
   "source": [
    "#### Creating a Pipeline for Hybrid Retrieval\n",
    "\n",
    "Hybdrid Retrieval refers to the combination of multiple retrieval methods to enhance overall performance. \n",
    "\n",
    "Keyword Based Search + Dense Vector Search -> Rerank Results using cross-encoder model"
   ]
  },
  {
   "cell_type": "markdown",
   "metadata": {},
   "source": [
    "#### -> Initialise Retrievers and the Embedder\n",
    "\n",
    "For this example, the InMemoryEmbeddingRetriever and the InMemoryBM25Retriever will be used to perform both dense and keyword-based retrieval. \n",
    "\n",
    "For a dense retrival, we need to use a SentenceTransformersTextEncoder that computes the embedding of the search query by using the same model we used for indexing the documents."
   ]
  },
  {
   "cell_type": "code",
   "execution_count": 28,
   "metadata": {},
   "outputs": [],
   "source": [
    "from haystack.components.retrievers.in_memory import InMemoryBM25Retriever, InMemoryEmbeddingRetriever\n",
    "from haystack.components.embedders import SentenceTransformersTextEmbedder\n",
    "\n",
    "text_embedder = SentenceTransformersTextEmbedder(\n",
    "    model=\"BAAI/bge-small-en-v1.5\", device=ComponentDevice.from_str(\"cuda:0\")\n",
    ")\n",
    "embedding_retriever = InMemoryEmbeddingRetriever(document_store)\n",
    "bm25_retriever = InMemoryBM25Retriever(document_store)"
   ]
  },
  {
   "cell_type": "markdown",
   "metadata": {},
   "source": [
    "#### -> Join Retrieval Results\n",
    "\n",
    "Use a DocumentJoiner to join these documents, joining methods such as `merge`, `reciprocal_rank_fusion` and `concatenate`. We will go with the default option `concatenate`"
   ]
  },
  {
   "cell_type": "code",
   "execution_count": 29,
   "metadata": {},
   "outputs": [],
   "source": [
    "from haystack.components.joiners import DocumentJoiner\n",
    "\n",
    "document_joiner = DocumentJoiner()"
   ]
  },
  {
   "cell_type": "markdown",
   "metadata": {},
   "source": [
    "#### -> Rank the Results\n",
    "Use the `TransformersSimilarityRanker` which scores the relevancy of all retrieved-documents for the given search query by using a cross encoder model. We will use the BAA1/bge-reranker-base model to rank the retrieved documents, we can replace this with any `cross-encoder` models on HuggingFace https://huggingface.co/cross-encoder"
   ]
  },
  {
   "cell_type": "code",
   "execution_count": 30,
   "metadata": {},
   "outputs": [],
   "source": [
    "from haystack.components.rankers import TransformersSimilarityRanker\n",
    "\n",
    "ranker = TransformersSimilarityRanker(model=\"BAAI/bge-reranker-base\")"
   ]
  },
  {
   "cell_type": "markdown",
   "metadata": {},
   "source": [
    "#### -> Create the Hybrid Retrieval Pipeline\n",
    "Add all initialized components to your pipeline and connect them"
   ]
  },
  {
   "cell_type": "code",
   "execution_count": 31,
   "metadata": {},
   "outputs": [
    {
     "data": {
      "text/plain": [
       "<haystack.core.pipeline.pipeline.Pipeline object at 0x7425795d01d0>\n",
       "🚅 Components\n",
       "  - text_embedder: SentenceTransformersTextEmbedder\n",
       "  - embedding_retriever: InMemoryEmbeddingRetriever\n",
       "  - bm25_retriever: InMemoryBM25Retriever\n",
       "  - document_joiner: DocumentJoiner\n",
       "  - ranker: TransformersSimilarityRanker\n",
       "🛤️ Connections\n",
       "  - text_embedder.embedding -> embedding_retriever.query_embedding (List[float])\n",
       "  - embedding_retriever.documents -> document_joiner.documents (List[Document])\n",
       "  - bm25_retriever.documents -> document_joiner.documents (List[Document])\n",
       "  - document_joiner.documents -> ranker.documents (List[Document])"
      ]
     },
     "execution_count": 31,
     "metadata": {},
     "output_type": "execute_result"
    }
   ],
   "source": [
    "from haystack import Pipeline\n",
    "\n",
    "hybrid_retrieval = Pipeline()\n",
    "hybrid_retrieval.add_component(\"text_embedder\", text_embedder)\n",
    "hybrid_retrieval.add_component(\"embedding_retriever\", embedding_retriever)\n",
    "hybrid_retrieval.add_component(\"bm25_retriever\", bm25_retriever)\n",
    "hybrid_retrieval.add_component(\"document_joiner\", document_joiner)\n",
    "hybrid_retrieval.add_component(\"ranker\", ranker)\n",
    "\n",
    "hybrid_retrieval.connect(\"text_embedder\", \"embedding_retriever\")\n",
    "hybrid_retrieval.connect(\"bm25_retriever\", \"document_joiner\")\n",
    "hybrid_retrieval.connect(\"embedding_retriever\", \"document_joiner\")\n",
    "hybrid_retrieval.connect(\"document_joiner\", \"ranker\")"
   ]
  },
  {
   "cell_type": "markdown",
   "metadata": {},
   "source": [
    "#### -> Visualise the Pipeline (Optional)\n",
    "\n",
    "Helps us to understand how a hybrid retrieval pipeline is formed. use the draw method"
   ]
  },
  {
   "cell_type": "code",
   "execution_count": 32,
   "metadata": {},
   "outputs": [],
   "source": [
    "hybrid_retrieval.draw(\"hybrid-retrieval.png\")"
   ]
  },
  {
   "cell_type": "markdown",
   "metadata": {},
   "source": [
    "### Testing Hybrid Retrieval"
   ]
  },
  {
   "cell_type": "code",
   "execution_count": 33,
   "metadata": {},
   "outputs": [
    {
     "name": "stderr",
     "output_type": "stream",
     "text": [
      "Batches: 100%|██████████| 1/1 [00:00<00:00, 106.58it/s]\n"
     ]
    }
   ],
   "source": [
    "query = \"apnea in infants\"\n",
    "\n",
    "result = hybrid_retrieval.run({\n",
    "    \"text_embedder\": {\n",
    "        \"text\": query\n",
    "    }, \n",
    "    \"bm25_retriever\": {\n",
    "        \"query\": query\n",
    "    },\n",
    "    \"ranker\": {\n",
    "        \"query\": query\n",
    "    }\n",
    "})"
   ]
  },
  {
   "cell_type": "markdown",
   "metadata": {},
   "source": [
    "##### Pretty Print Results"
   ]
  },
  {
   "cell_type": "code",
   "execution_count": 34,
   "metadata": {},
   "outputs": [
    {
     "name": "stdout",
     "output_type": "stream",
     "text": [
      "Physiologic changes induced by theophylline in the treatment of apnea in preterm infants. \t 0.9714500308036804\n",
      "Ten preterm infants (birth weight 0.970 to 2.495 kg) with apnea due to periodic breathing (apneic interval = 5 to 10 seconds) or with \"serious apnea\" (greater than or equal to 20 seconds) were studied before and after the administration of theophylline. We determined the incidence of apnea, respiratory minute volume, alveolar gases, arterial gases and pH, \"specific\" compliance, functional residual capacity, and work of breathing. Theophylline decreased the incidence of apnea (P less than .05), increased respiratory minute volume (P less than 0.001), decreased (PACO2 (and PaCO2 P less than 0.001), increased the slope of the CO2 response curve (P less than 0.02) with a significant shift to the left (P less than 0.02). These findings suggest that the decreased incidence of apnea after theophylline is associated with an increase in alveolar ventilation and increased sensitivity to CO2 with a pronounced shift of the CO2 response curve to the left. These data are consistent with the idea that apnea is a reflection of a depressed respiratory system.\n",
      "\n",
      " \n",
      "\n",
      "Efficacy of caffeine in treatment of apnea in the low-birth-weight infant. \t 0.9170233011245728\n",
      "The efficacy of caffeine citrate in the management of apnea in the newborn infant was evaluated. Caffeine citrate was given to 18 preterm neonates with recurrent apneic spells. Mean (+/- SE) birth weight and gestational age were 1,065.0 +/- 71.9 gm and 27.5 +/- 0.6 weeks, respectively. Mean age at onset of apnea and at initiation of caffeine treatment was 6.5 +/- 3.7 days and 18.2 +/- 4.9 days, respectively. Caffeine citrate was administered with a loading dose of 20 mg/kg intravenously followed within two to three days by 5 to 10 mg/kg once or twice daily. All infants except one showed a significant decrease in the frequency of apneic episodes associated with caffeine therapy. Mean frequencies of apneic spells were 13.6 +/- 2.5 and 2.1 +/- 0.6 apnea per day before and after initiation of caffeine treatment, respectively. Respiratory rate was increased, and blood [h]+ion concentration and Pco2 were decreased. The data suggest that caffeine is an effective pharmacologic respirogenic agent in the preterm infant with apnea.\n",
      "\n",
      " \n",
      "\n",
      "Sudden infant death syndrome (crib death). \t 0.8215422630310059\n",
      "Sudden infant death syndrome (SIDS) is diagnosed by the absence of lethal autopsy findings, or in a resuscitatable, \"near miss\" form with cyanosis, apnea, and bradycardia. The event is unexpected, although a minor respiratory infection is common, and occurs during sleep, between 1 and 6 months of age. There is growing evidence that the victims have had previous hypoxic episodes. Although suffocation is no longer considered a tenable explanation, other forms of airway obstruction are still postulated by many; the evidence, however, favors hypoxia as the common feature. A lethal arrhythmia had been proposed by several groups, based on inappropriate reflex activity, \"pathology\" of the conduction system, and the long QT syndrome, but the evidence is against arrhythmia as the primary event in most cases of SIDS. Based on the reversible \"near miss,\" apnea is likely as the primary event in SIDS. Several reflexes have the ability to produce apnea, in addition to the relatively common sleep apnea; the crucial aspect, rather, appears to be thefailure of the immature infant to resume respiration. The possibility exists that the infant, who did not have to breather for 9 months of fetal life, literally is not alarmed and aroused by the persistance of apnea. In human and animal studies, respiratory infections and sleep deprivation have been proved to increase the likelihood and duration of sleep apnea. If primary apnea continues for long (45 seconds or more), a dangerous positive feedback develops into hypoxic apnea. Hhis will persist until circulatory failure occurs, or until gasping occurs. The gasp is a highly effective mechanism at birth, but will occur too late for autoresuscitation after the anerobic capacity of fetal life dimineshes; we believe this capacity lasts for approximately 1 month, accounting for the hiatus of crib death, sparing the first month. The \"near-miss\" infant, after resuscitation, should be monitored at home, if practical, until 6 months of age. A simple cardiac monitor for bradycardia has definite advantage over an apnea monitor alone.\n",
      "\n",
      " \n",
      "\n",
      "Properties of the laryngeal chemoreflex in neonatal piglets. \t 0.4583453834056854\n",
      "Cardiorespiratory reflex responses to laryngeal chemoreceptor stimulation were studied in 62 piglets of both sexes varying in age from 1 to 79 days. The distal trachea was cannulated to provide a free airway and the proximal end used to introduce fluids into the laryngeal area. Introduction of either water or milk produced apnea, bradycardia, and hypertension. Swab application of test fluids to the laryngeal epithelium produced similar responses. The reflex could be interrupted by flushing the laryngeal region with saline, by cutting the superior laryngeal nerves (SLN) or by anesthetizing the laryngeal epithelium with lidocaine. Electrical stimulation of SLN elicited identical responses. Respiratory inhibition by the reflex was enhanced following central depression with chloralose and overridden by administration of the respiratory stimulant, aminophylline. The relative potency of the laryngeal reflex was estimated to be equivalent to about 40% of the dose of chloralose which produced permanent respiratory arrest. It is concluded that in circumstances where respiratory drive is reduced the laryngeal inhibitory reflex is capable of caused persistent apnea and asphyxial death in the young piglet.\n",
      "\n",
      " \n",
      "\n",
      "Effect of continuous positive airway pressure breathing on cardiorespiratory function in infants with respiratory distress syndrome. \t 0.1226457729935646\n",
      "A method of investigating the cardiorespiratory responses to continuous positive airway presslre (CPAP) in infants with respiratory distress syndrome is described. All measurements were made immediately before and within five minutes of application or any change in level of CPAP. Ventilation was derived from a pneumotachograph and dynamic compliance calculated. We have also measured arterial pH, oxygen and carbon dioxide tensions, arterial blood pressure and central venous pressure. Arterial oxygen tension increased in association with a decrease in the alveolar-arterial oxygen gradient. No consistent changes occurred in pH or carbon dioxide tension. Heart rate and mean arterial blood pressure remained the same but the arterial pulse pressure narrowed and the increase in central venous pressure averaged 17% of the applied airway pressure. There were less variations in both tidal volumes and instantaneous respiratory rates with CPAP compared with spontaneous breathing without CPAP. The respiratory rate decreased, but there were no consistent changes in tidal volume, resulting in a lesser reduction of minute ventilation. Dynamic compliance decreased on CPAP. With correct use of CPAP, and improvement in oxygenation generally occurs without obvious adverse cardiorespiratory effects. CPAP must nevertheless be used cautiously and in conjunction with close monitoring; because when the appropriate pressures are exceeded, it is possible that both circulatory and ventilatory function might be severely compromised.\n",
      "\n",
      " \n",
      "\n",
      "Duration of apnea needed to confirm brain death. \t 0.11926399916410446\n",
      "To determine the duration of respiratory arrest needed to attain a PaCO2 level high enough to provide maximal stimulation of respiration, we evaluated changes in PaCO2, PaO2 and apH during periods of apnea lasting as long as 10 minutes in 10 apparently brain-dead subjects. Before apnea, mean PaCO2 was 33 mm Hg. In seven subjects who did not breathe for 10 minutes, the mean rate of rise of PaCO2 was 3.2 mm Hg per minute. PaCO2 at 4 minutes was 50 mm Hg and at 10 minutes was 67 mm Hg. Three subjects breathed, two after less than 2 minutes of apnea, when PaCO2 was 47 and 54 mm Hg, and one after 4.5 minutes, when PaCO2 was 47 mm Hg. These data indicate: (1) that the threshold for respiratory stimulation may approach a PaCO2 of 60 mm Hg in patients with brain damage; (2) that the rate of increase in PaCO2 is such that, even in a normocapnic subject after 3 minutes of apnea, the PaCO2 may not be sufficiently high to stimulate respiration; and (3) if a patient is hypocapnic prior to the onset of apnea, PaCO2 may not reach 60 mm Hg even after 15 minutes. To confirm absolute apnea, then, blood gas monitoring is necessary for verification of normocapnia prior to the beginning of apnea. In the absence of blood gas determinations, no fixed period of apnea, sufficient in all cases to establish absolute apnea, can be ascertained.\n",
      "\n",
      " \n",
      "\n",
      "[Quantitative hyperpnea in EEG (author's transl)]. \t 0.10985126346349716\n",
      "After summarizing the phenomena of respiratory physiology involved in the hyperpnea test, the author studies the quantitative relation between the drop in PECO2 (pressure of CO2 in expired air) and changes in the EEG during hyperpnea. Normal subjects are divided into two groups of a hundred (6 to 19 1/2 years of age; 20 to 59 1/2 years of age). The PECO2 at rest is higher among the young subjects than among the adults, and its decline during hyperpnea is sharper. Thus, children show discrete respiratory acidosis in comparison with adults. The EEG of normal adults is practically unchanged during hyperpnea whereas, in the young group, moderate changes in the profile were observed in 45 out of 100 cases (classified empirically as normal). The PECO2 reaches a lower level in subjects showing EEG changes than in those showing none. All the reported differences are statistically significant (p less than 0.01). The probability of hyperpnea modifying the EEG profile becomes progressively less with age, and may be related to the reduced production of CO2 in older subjects. Epileptic subjects (primary generalized epilepsy) produce more CO2 than normal subjects during the hyperpnea test. The statistical data reported in the study show the importance of the size of the drop in ventilatory CO2 in the determination of EEG changes. The rest of hyperpnea in EEG can therefore be validly interpreted only if capnographic variations are measured. A standard quantitative hyperpnea test of this type should be devised, with specification of the hypocapnia level to be achieved.\n",
      "\n",
      " \n",
      "\n",
      "The effects of feeding on arterial blood gases and lung mechanics in newborn infants recovering from respiratory disease. \t 0.07236020267009735\n",
      "Fifteen infants recovering from neonatal respiratory disease had arterial blood gases and lung mechanics measured 5 minutes before bolus feeds and at 5, 10, 20, and 30 minutes after feeding to determine physiologic effects of feeding. PaO2 fell significantly from prefeeding values at 5, 10, and 20 minutes after feeds. Mean prefeeding pH and base excess values were significantly different from mean postfeeding values at 5, 10, 20, and 30 minutes, respectively. PaCO2 remained unchanged before and after feeding. Heart rate and systolic and diastolic blood pressure did not change throughout the study. Dynamic lung compliance, respiratory, rate, and tidal volume did not change significantly but there was a trend toward increase in tidal volume. Mean minute volume rose with time as a consequence of the increased tidal volume. Work of breathing remained unchanged at 10 and 20 minutes postfeed and increased slightly at 30 minutes; this was due to a small increase in both elastic and viscous work components at this time.\n",
      "\n",
      " \n",
      "\n",
      "[Seeking an ideal protocol for the stability of blood gases during general anesthesia for bronchosopies]. \t 0.06043276935815811\n",
      "During general anesthesia for bronchoscopy, hypoxemia is a major risk, especially in patients with a severe intrapulmonary shunt. With the technique of apnea in pure oxygen, after one hour denitrogentation, and with an intake of 50 liters of oxygen per minute through the bronchoscope, the PaO2 was greater than 400 mm of Hg, but hypercapnia and acidosis occurred. To compensate the latter, five minute sessions of apnea, alternating with two minutes of jet hyperventilation, nevertheless, have the disadvantage of producing a Ventrui phenomena at the proximal end of the bronchoscope, hence a fall in FiO2 which was dangerous in these high risk patients. The authors propose a method so that the Venturi phenomenon, which cannot be prevented, occurs in pure oxygen.\n",
      "\n",
      " \n",
      "\n",
      "[Important physiological considerations in artificial respiration and reanimation of newborn infants]. \t 0.05888206884264946\n",
      "The methods used for ventilation of the neonate shold be based upon consideration of the physiological changes which occure in the lungs and circulation at birth of the normal infant. Three important changes must be taken into consideration. The first is the formation of a residual volume of alveolar gas, the second the resorption of pulmonary fluid and the third a decrease in pulmonary vascular resistance, upon which is dependent the change from foetal circulation to that of the neonate. To begin insufflation of foetal lungs it is necessary to use a pressure of between 20 and 30 cm H2O. After the first insufflation, a good deal of air remains in the lungs, even during expiration, as long as pulmonary \"surfactant\" is present. In the absence of the latter, residual pressure at the end of expiration is necessary in order to avoid the lung emptying itself of air. The resorption of pulmonary liquid from the alveolar spaces into the blood is dependent upon a change in the permeability of the alveolar epithelium, which renders possible the rapid passage of water via the channels which open, probably between the epithelial cells, and this change is dependent upon an expansion of the lungs by a pressure of between 35 and 40 cm H2O. Dilatation of the pulmonary vessels depends in part upon an increase in partial pressure of oxygen and a fall in carbon dioxide in the environment of the pulmonary arterioles, and in part upon mechanical changes brought about by the movements of ventilatation.\n",
      "\n",
      " \n",
      "\n"
     ]
    }
   ],
   "source": [
    "def pretty_print_results(prediction):\n",
    "    for doc in prediction['documents']:\n",
    "        print(doc.meta['title'], \"\\t\", doc.score)\n",
    "        print(doc.meta['abstract'])\n",
    "        print('\\n', '\\n')\n",
    "        \n",
    "pretty_print_results(result['ranker'])"
   ]
  }
 ],
 "metadata": {
  "kernelspec": {
   "display_name": "env",
   "language": "python",
   "name": "python3"
  },
  "language_info": {
   "codemirror_mode": {
    "name": "ipython",
    "version": 3
   },
   "file_extension": ".py",
   "mimetype": "text/x-python",
   "name": "python",
   "nbconvert_exporter": "python",
   "pygments_lexer": "ipython3",
   "version": "3.11.5"
  }
 },
 "nbformat": 4,
 "nbformat_minor": 2
}
