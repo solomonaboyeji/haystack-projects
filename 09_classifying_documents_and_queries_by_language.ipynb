{
 "cells": [
  {
   "cell_type": "markdown",
   "metadata": {},
   "source": [
    "# Classifying Documents & Queries by Language\n",
    "\n",
    "Build a Haystack Pipeline to classify documents based on the human language they were written in.\n",
    "\n",
    "Incorporate language classification and query routing into a RAG pipeline, so we can query documents based on the language a question was written in."
   ]
  },
  {
   "cell_type": "markdown",
   "metadata": {},
   "source": [
    "Haystack DocumentLanguageClassifier classifies language of Documents and adds the detected language to their metadata. If no language is matched, it is classified as `unmatched`. "
   ]
  },
  {
   "cell_type": "markdown",
   "metadata": {},
   "source": [
    "### Write Documents into InMemoryDocumentStore\n",
    "\n",
    "The following indexing pipeine writes French and English documents into their own InMemoryDocumentStores based on language."
   ]
  },
  {
   "cell_type": "code",
   "execution_count": 42,
   "metadata": {},
   "outputs": [],
   "source": [
    "from haystack import Document, Pipeline\n",
    "from haystack.document_stores.in_memory import InMemoryDocumentStore\n",
    "from haystack.components.classifiers import DocumentLanguageClassifier\n",
    "from haystack.components.routers import MetadataRouter\n",
    "from haystack.components.writers import DocumentWriter\n",
    "\n",
    "documents = [\n",
    "    Document(\n",
    "        content=\"Super appartement. Juste au dessus de plusieurs bars qui ferment très tard. A savoir à l'avance. (Bouchons d'oreilles fournis !)\"\n",
    "    ),\n",
    "    Document(\n",
    "        content=\"El apartamento estaba genial y muy céntrico, todo a mano. Al lado de la librería Lello y De la Torre de los clérigos. Está situado en una zona de marcha, así que si vais en fin de semana , habrá ruido, aunque a nosotros no nos molestaba para dormir\"\n",
    "    ),\n",
    "    Document(\n",
    "        content=\"The keypad with a code is convenient and the location is convenient. Basically everything else, very noisy, wi-fi didn't work, check-in person didn't explain anything about facilities, shower head was broken, there's no cleaning and everything else one may need is charged.\"\n",
    "    ),\n",
    "    Document(\n",
    "        content=\"It is very central and appartement has a nice appearance (even though a lot IKEA stuff), *W A R N I N G** the appartement presents itself as a elegant and as a place to relax, very wrong place to relax - you cannot sleep in this appartement, even the beds are vibrating from the bass of the clubs in the same building - you get ear plugs from the hotel -> now I understand why -> I missed a trip as it was so loud and I could not hear the alarm next day due to the ear plugs.- there is a green light indicating 'emergency exit' just above the bed, which shines very bright at night - during the arrival process, you felt the urge of the agent to leave as soon as possible. - try to go to 'RVA clerigos appartements' -> same price, super quiet, beautiful, city center and very nice staff (not an agency)- you are basically sleeping next to the fridge, which makes a lot of noise, when the compressor is running -> had to switch it off - but then had no cool food and drinks. - the bed was somehow broken down - the wooden part behind the bed was almost falling appart and some hooks were broken before- when the neighbour room is cooking you hear the fan very loud. I initially thought that I somehow activated the kitchen fan\"\n",
    "    ),\n",
    "    Document(content=\"Un peu salé surtout le sol. Manque de service et de souplesse\"),\n",
    "    Document(\n",
    "        content=\"Nous avons passé un séjour formidable. Merci aux personnes , le bonjours à Ricardo notre taxi man, très sympathique. Je pense refaire un séjour parmi vous, après le confinement, tout était parfait, surtout leur gentillesse, aucune chaude négative. Je n'ai rien à redire de négative, Ils étaient a notre écoute, un gentil message tout les matins, pour nous demander si nous avions besoins de renseignement et savoir si tout allait bien pendant notre séjour.\"\n",
    "    ),\n",
    "    Document(\n",
    "        content=\"Céntrico. Muy cómodo para moverse y ver Oporto. Edificio con terraza propia en la última planta. Todo reformado y nuevo. Te traen un estupendo desayuno todas las mañanas al apartamento. Solo que se puede escuchar algo de ruido de la calle a primeras horas de la noche. Es un zona de ocio nocturno. Pero respetan los horarios.\"\n",
    "    ),\n",
    "]"
   ]
  },
  {
   "cell_type": "code",
   "execution_count": 43,
   "metadata": {},
   "outputs": [],
   "source": [
    " # Each language gets its own DocumentStore\n",
    " \n",
    " en_document_store = InMemoryDocumentStore(embedding_similarity_function=\"cosine\")\n",
    " fr_document_store = InMemoryDocumentStore(embedding_similarity_function=\"cosine\")\n",
    " es_document_store = InMemoryDocumentStore(embedding_similarity_function=\"cosine\")"
   ]
  },
  {
   "cell_type": "markdown",
   "metadata": {},
   "source": [
    "Write out the rules the MetadatRouter should follow to route a document to a specific node. "
   ]
  },
  {
   "cell_type": "code",
   "execution_count": 44,
   "metadata": {},
   "outputs": [],
   "source": [
    "language_classifier = DocumentLanguageClassifier(languages=[\"en\", \"fr\", \"es\"])\n",
    "router_rules = {\n",
    "    \"en\": {\n",
    "        \"language\": {\n",
    "            \"$eq\": \"en\"\n",
    "        }\n",
    "    },\n",
    "    \"fr\": {\n",
    "        \"language\": {\n",
    "            \"$eq\": \"fr\"\n",
    "        }\n",
    "    },\n",
    "     \"es\": {\n",
    "        \"language\": {\n",
    "            \"$eq\": \"es\"\n",
    "        }\n",
    "    },\n",
    "}\n",
    "router = MetadataRouter(rules=router_rules)"
   ]
  },
  {
   "cell_type": "code",
   "execution_count": 45,
   "metadata": {},
   "outputs": [],
   "source": [
    "from haystack.document_stores.types import DuplicatePolicy\n",
    "\n",
    "en_writer = DocumentWriter(document_store=en_document_store, policy=DuplicatePolicy.OVERWRITE)\n",
    "fr_writer = DocumentWriter(document_store=fr_document_store, policy=DuplicatePolicy.OVERWRITE)\n",
    "es_writer = DocumentWriter(document_store=es_document_store, policy=DuplicatePolicy.OVERWRITE)"
   ]
  },
  {
   "cell_type": "code",
   "execution_count": 46,
   "metadata": {},
   "outputs": [],
   "source": [
    "from haystack.components.embedders import SentenceTransformersDocumentEmbedder\n",
    "from haystack.components.preprocessors import DocumentSplitter\n",
    "\n",
    "en_document_embedder = SentenceTransformersDocumentEmbedder(\"thenlper/gte-large\")\n",
    "es_document_embedder = SentenceTransformersDocumentEmbedder(\"thenlper/gte-large\")\n",
    "fr_document_embedder = SentenceTransformersDocumentEmbedder(\"thenlper/gte-large\")\n",
    "\n",
    "en_document_splitter = DocumentSplitter(split_by=\"word\", split_length=2)\n",
    "fr_document_splitter = DocumentSplitter(split_by=\"word\", split_length=2)\n",
    "es_document_splitter = DocumentSplitter(split_by=\"word\", split_length=2)"
   ]
  },
  {
   "cell_type": "code",
   "execution_count": 47,
   "metadata": {},
   "outputs": [
    {
     "data": {
      "text/plain": [
       "<haystack.core.pipeline.pipeline.Pipeline object at 0x74f1761abd50>\n",
       "🚅 Components\n",
       "  - language_classifier: DocumentLanguageClassifier\n",
       "  - router: MetadataRouter\n",
       "  - en_writer: DocumentWriter\n",
       "  - fr_writer: DocumentWriter\n",
       "  - es_writer: DocumentWriter\n",
       "  - en_embedder: SentenceTransformersDocumentEmbedder\n",
       "  - es_embedder: SentenceTransformersDocumentEmbedder\n",
       "  - fr_embedder: SentenceTransformersDocumentEmbedder\n",
       "  - en_splitter: DocumentSplitter\n",
       "  - es_splitter: DocumentSplitter\n",
       "  - fr_splitter: DocumentSplitter\n",
       "🛤️ Connections\n",
       "  - language_classifier.documents -> router.documents (List[Document])\n",
       "  - router.en -> en_splitter.documents (List[Document])\n",
       "  - router.es -> es_splitter.documents (List[Document])\n",
       "  - router.fr -> fr_splitter.documents (List[Document])\n",
       "  - en_embedder.documents -> en_writer.documents (List[Document])\n",
       "  - es_embedder.documents -> es_writer.documents (List[Document])\n",
       "  - fr_embedder.documents -> fr_writer.documents (List[Document])\n",
       "  - en_splitter.documents -> en_embedder.documents (List[Document])\n",
       "  - es_splitter.documents -> es_embedder.documents (List[Document])\n",
       "  - fr_splitter.documents -> fr_embedder.documents (List[Document])"
      ]
     },
     "execution_count": 47,
     "metadata": {},
     "output_type": "execute_result"
    }
   ],
   "source": [
    "indexing_pipeline = Pipeline()\n",
    "\n",
    "indexing_pipeline.add_component(instance=language_classifier, name=\"language_classifier\")\n",
    "indexing_pipeline.add_component(instance=router, name=\"router\")\n",
    "indexing_pipeline.add_component(instance=en_writer, name=\"en_writer\")\n",
    "indexing_pipeline.add_component(instance=fr_writer, name=\"fr_writer\")\n",
    "indexing_pipeline.add_component(instance=es_writer, name=\"es_writer\")\n",
    "\n",
    "indexing_pipeline.add_component(instance=en_document_embedder, name=\"en_embedder\")\n",
    "indexing_pipeline.add_component(instance=es_document_embedder, name=\"es_embedder\")\n",
    "indexing_pipeline.add_component(instance=fr_document_embedder, name=\"fr_embedder\")\n",
    "\n",
    "indexing_pipeline.add_component(instance=en_document_splitter, name=\"en_splitter\")\n",
    "indexing_pipeline.add_component(instance=fr_document_splitter, name=\"es_splitter\")\n",
    "indexing_pipeline.add_component(instance=es_document_splitter, name=\"fr_splitter\")\n",
    "\n",
    "indexing_pipeline.connect(\"language_classifier\", \"router\")\n",
    "\n",
    "indexing_pipeline.connect(\"router.en\", \"en_splitter\")\n",
    "indexing_pipeline.connect(\"router.es\", \"es_splitter\")\n",
    "indexing_pipeline.connect(\"router.fr\", \"fr_splitter\")\n",
    "\n",
    "indexing_pipeline.connect(\"en_splitter\", \"en_embedder\")\n",
    "indexing_pipeline.connect(\"es_splitter\", \"es_embedder\")\n",
    "indexing_pipeline.connect(\"fr_splitter\", \"fr_embedder\")\n",
    "\n",
    "\n",
    "indexing_pipeline.connect(\"en_embedder\", \"en_writer\")\n",
    "indexing_pipeline.connect(\"fr_embedder\", \"fr_writer\")\n",
    "indexing_pipeline.connect(\"es_embedder\", \"es_writer\")"
   ]
  },
  {
   "cell_type": "code",
   "execution_count": 48,
   "metadata": {},
   "outputs": [],
   "source": [
    "indexing_pipeline.draw(\"indexing_pipeline.png\")"
   ]
  },
  {
   "cell_type": "code",
   "execution_count": 49,
   "metadata": {},
   "outputs": [
    {
     "name": "stderr",
     "output_type": "stream",
     "text": [
      "Batches: 100%|██████████| 5/5 [00:00<00:00, 39.03it/s]\n",
      "Batches: 100%|██████████| 2/2 [00:00<00:00, 41.44it/s]\n",
      "Batches: 100%|██████████| 2/2 [00:00<00:00, 46.12it/s]\n"
     ]
    },
    {
     "data": {
      "text/plain": [
       "{'router': {'unmatched': []},\n",
       " 'en_writer': {'documents_written': 141},\n",
       " 'fr_writer': {'documents_written': 53},\n",
       " 'es_writer': {'documents_written': 54}}"
      ]
     },
     "execution_count": 49,
     "metadata": {},
     "output_type": "execute_result"
    }
   ],
   "source": [
    "indexing_pipeline.run(data={\n",
    "    \"language_classifier\": {\n",
    "        \"documents\": documents\n",
    "    }\n",
    "})"
   ]
  },
  {
   "cell_type": "markdown",
   "metadata": {},
   "source": [
    "### Check the Contents of the Document Stores"
   ]
  },
  {
   "cell_type": "code",
   "execution_count": 50,
   "metadata": {},
   "outputs": [
    {
     "name": "stdout",
     "output_type": "stream",
     "text": [
      "English documents  [Document(id=ee08b8715e02e71ce101e8f63d92ce4432fee7d35e8f152c31d7f6fcae2c6120, content: 'The keypad ', meta: {'language': 'en', 'source_id': '8f64ab234c6a5d5652d02bed144d069ec6e988903b071d16fffbf400abfc1047', 'page_number': 1}, embedding: vector of size 1024), Document(id=1d4c4d919d4ac6672c875a325c7ea9c86d9f0d642cf802da8e79e7623fadb366, content: 'with a ', meta: {'language': 'en', 'source_id': '8f64ab234c6a5d5652d02bed144d069ec6e988903b071d16fffbf400abfc1047', 'page_number': 1}, embedding: vector of size 1024), Document(id=e65ec6f8345eaa194e64a839d4eb2879ad3f70967e2b3493c6102a1e86208d99, content: 'code is ', meta: {'language': 'en', 'source_id': '8f64ab234c6a5d5652d02bed144d069ec6e988903b071d16fffbf400abfc1047', 'page_number': 1}, embedding: vector of size 1024), Document(id=8be4dbae8276e55b708f9ceeb5a72aedb0c5582155e1dc9076303af9a3747ee2, content: 'convenient and ', meta: {'language': 'en', 'source_id': '8f64ab234c6a5d5652d02bed144d069ec6e988903b071d16fffbf400abfc1047', 'page_number': 1}, embedding: vector of size 1024), Document(id=e576b83d88f7d1e0c43265c388287bd3c64451bf20f8f73670ada4b66c465a14, content: 'the location ', meta: {'language': 'en', 'source_id': '8f64ab234c6a5d5652d02bed144d069ec6e988903b071d16fffbf400abfc1047', 'page_number': 1}, embedding: vector of size 1024), Document(id=7bdd4454e5eb8a823acd60d2a87317c8988be762c25d4e256a5503d61a5c5964, content: 'is convenient. ', meta: {'language': 'en', 'source_id': '8f64ab234c6a5d5652d02bed144d069ec6e988903b071d16fffbf400abfc1047', 'page_number': 1}, embedding: vector of size 1024), Document(id=b7640af0e8e0d33ec72380874bba45ea2d88e9061228c0c7f181cdfff74eecab, content: 'Basically everything ', meta: {'language': 'en', 'source_id': '8f64ab234c6a5d5652d02bed144d069ec6e988903b071d16fffbf400abfc1047', 'page_number': 1}, embedding: vector of size 1024), Document(id=bb409471fffa3d29d438399d46337b0aab9c8f402689d305d9f71e8ca17b4c38, content: 'else, very ', meta: {'language': 'en', 'source_id': '8f64ab234c6a5d5652d02bed144d069ec6e988903b071d16fffbf400abfc1047', 'page_number': 1}, embedding: vector of size 1024), Document(id=c4d9e463325d2d2a20152474139fcb8d138f1df62e5435d529a4b43fe2d58793, content: 'noisy, wi-fi ', meta: {'language': 'en', 'source_id': '8f64ab234c6a5d5652d02bed144d069ec6e988903b071d16fffbf400abfc1047', 'page_number': 1}, embedding: vector of size 1024), Document(id=23db4984342331eb0eaf832806e5e7069c76dfb4d831628f1b0bbb23dbbd7b12, content: 'didn't work, ', meta: {'language': 'en', 'source_id': '8f64ab234c6a5d5652d02bed144d069ec6e988903b071d16fffbf400abfc1047', 'page_number': 1}, embedding: vector of size 1024), Document(id=27305edd827fe89f9a5eab99ddf91a19365e8c9c037c94823d121da6ed64b61d, content: 'check-in person ', meta: {'language': 'en', 'source_id': '8f64ab234c6a5d5652d02bed144d069ec6e988903b071d16fffbf400abfc1047', 'page_number': 1}, embedding: vector of size 1024), Document(id=be051af02105d23e19ff63bd1c9f0b4eb429d413c5098e84f2629b8b5a2db50b, content: 'didn't explain ', meta: {'language': 'en', 'source_id': '8f64ab234c6a5d5652d02bed144d069ec6e988903b071d16fffbf400abfc1047', 'page_number': 1}, embedding: vector of size 1024), Document(id=a52dd423f4b785cc597592bb9988f0a4ddc4ed69c48d0d171354bbb030e71256, content: 'anything about ', meta: {'language': 'en', 'source_id': '8f64ab234c6a5d5652d02bed144d069ec6e988903b071d16fffbf400abfc1047', 'page_number': 1}, embedding: vector of size 1024), Document(id=90e6fd9ca939c1dc6dac1b3bd0ef624718abeff7af284d9d61cb9c5289bd635e, content: 'facilities, shower ', meta: {'language': 'en', 'source_id': '8f64ab234c6a5d5652d02bed144d069ec6e988903b071d16fffbf400abfc1047', 'page_number': 1}, embedding: vector of size 1024), Document(id=05c3f2341876aed7daed598e89a82c7c8b723bf22f0d9dc0cdb701d9560cbacd, content: 'head was ', meta: {'language': 'en', 'source_id': '8f64ab234c6a5d5652d02bed144d069ec6e988903b071d16fffbf400abfc1047', 'page_number': 1}, embedding: vector of size 1024), Document(id=3514c1e9b47c71664fdd48ee79ed5c4d0d793903a78f909698796466e8a06d54, content: 'broken, there's ', meta: {'language': 'en', 'source_id': '8f64ab234c6a5d5652d02bed144d069ec6e988903b071d16fffbf400abfc1047', 'page_number': 1}, embedding: vector of size 1024), Document(id=36221e3173a40ff70dfa440b79046bf952426bf4ffcca68b7394283d80399a97, content: 'no cleaning ', meta: {'language': 'en', 'source_id': '8f64ab234c6a5d5652d02bed144d069ec6e988903b071d16fffbf400abfc1047', 'page_number': 1}, embedding: vector of size 1024), Document(id=8ab085787982c398d0fa33ff12504cea59c29e2ec236c79fc0260b6e37d0b31a, content: 'and everything ', meta: {'language': 'en', 'source_id': '8f64ab234c6a5d5652d02bed144d069ec6e988903b071d16fffbf400abfc1047', 'page_number': 1}, embedding: vector of size 1024), Document(id=b7adfa635d1bdad210823bd8d6fff05a8b73a97ab1c6ed949feeeb7d8e792c08, content: 'else one ', meta: {'language': 'en', 'source_id': '8f64ab234c6a5d5652d02bed144d069ec6e988903b071d16fffbf400abfc1047', 'page_number': 1}, embedding: vector of size 1024), Document(id=aa3fb097e625aa505b2b99bf0f2c81c0792a0d6eadecde0c3e115341bd70d9e4, content: 'may need ', meta: {'language': 'en', 'source_id': '8f64ab234c6a5d5652d02bed144d069ec6e988903b071d16fffbf400abfc1047', 'page_number': 1}, embedding: vector of size 1024), Document(id=6205fbe1d134d84f1190a335675c525e7a9df02815d17fd8f237d8e8087841d9, content: 'is charged.', meta: {'language': 'en', 'source_id': '8f64ab234c6a5d5652d02bed144d069ec6e988903b071d16fffbf400abfc1047', 'page_number': 1}, embedding: vector of size 1024), Document(id=76ba247e951a20e510176f03d0983f9bcf636151ffa9849760499df7d6b78753, content: 'It is ', meta: {'language': 'en', 'source_id': 'd4d878288efba5e28a43ae0195e43dadd0298fe36d3d9b3075c5c5120d27763e', 'page_number': 1}, embedding: vector of size 1024), Document(id=ee73253e077486b954e8e69d6b85c720ecf9a5721e710849bef3d35a49785f99, content: 'very central ', meta: {'language': 'en', 'source_id': 'd4d878288efba5e28a43ae0195e43dadd0298fe36d3d9b3075c5c5120d27763e', 'page_number': 1}, embedding: vector of size 1024), Document(id=2cfd0db73ead17e58d424f1eb64969a9a121666b294097074342083429cf95d5, content: 'and appartement ', meta: {'language': 'en', 'source_id': 'd4d878288efba5e28a43ae0195e43dadd0298fe36d3d9b3075c5c5120d27763e', 'page_number': 1}, embedding: vector of size 1024), Document(id=b03dc4b87804d552542fa45b3115846bfd09829dcc3b870df42804d6d1a69c77, content: 'has a ', meta: {'language': 'en', 'source_id': 'd4d878288efba5e28a43ae0195e43dadd0298fe36d3d9b3075c5c5120d27763e', 'page_number': 1}, embedding: vector of size 1024), Document(id=cb5981fec76145792f23467e67e07f31e01426db0e4a00010a9dc1d8a44b20e0, content: 'nice appearance ', meta: {'language': 'en', 'source_id': 'd4d878288efba5e28a43ae0195e43dadd0298fe36d3d9b3075c5c5120d27763e', 'page_number': 1}, embedding: vector of size 1024), Document(id=aebfe0d612c6313001f156673ef2e72507143c1696a790c5cc57923e5ae3e6e7, content: '(even though ', meta: {'language': 'en', 'source_id': 'd4d878288efba5e28a43ae0195e43dadd0298fe36d3d9b3075c5c5120d27763e', 'page_number': 1}, embedding: vector of size 1024), Document(id=81aa080eb74074e0459df47635eeddaa94121a6b9be0946152aaa90921dc9069, content: 'a lot ', meta: {'language': 'en', 'source_id': 'd4d878288efba5e28a43ae0195e43dadd0298fe36d3d9b3075c5c5120d27763e', 'page_number': 1}, embedding: vector of size 1024), Document(id=34258862d373a3b6aca2c23a5be35ec90e234bc569c07d213d3c1f377601a5d2, content: 'IKEA stuff), ', meta: {'language': 'en', 'source_id': 'd4d878288efba5e28a43ae0195e43dadd0298fe36d3d9b3075c5c5120d27763e', 'page_number': 1}, embedding: vector of size 1024), Document(id=2677e6cdc4288adc3c452706a446603ede406d47e97bccbde84e2f3c34ca4234, content: '*W A ', meta: {'language': 'en', 'source_id': 'd4d878288efba5e28a43ae0195e43dadd0298fe36d3d9b3075c5c5120d27763e', 'page_number': 1}, embedding: vector of size 1024), Document(id=47d0481dee140997baf4ae8a72b2cb39003af73608c90213a1c02a08c93b03c3, content: 'R N ', meta: {'language': 'en', 'source_id': 'd4d878288efba5e28a43ae0195e43dadd0298fe36d3d9b3075c5c5120d27763e', 'page_number': 1}, embedding: vector of size 1024), Document(id=85d3ddd700b64268467d35c485d5ed99433583b0dc21f593f41f5273d35c43f2, content: 'I N ', meta: {'language': 'en', 'source_id': 'd4d878288efba5e28a43ae0195e43dadd0298fe36d3d9b3075c5c5120d27763e', 'page_number': 1}, embedding: vector of size 1024), Document(id=68170c19f88cb0595bf5d3ef6a4268d59e08694b48e647ee4676da4145c5385b, content: 'G** the ', meta: {'language': 'en', 'source_id': 'd4d878288efba5e28a43ae0195e43dadd0298fe36d3d9b3075c5c5120d27763e', 'page_number': 1}, embedding: vector of size 1024), Document(id=f22bf842d8fe51738cd514e89b1dee54bdaf90daaa53580c8035a7357919da26, content: 'appartement presents ', meta: {'language': 'en', 'source_id': 'd4d878288efba5e28a43ae0195e43dadd0298fe36d3d9b3075c5c5120d27763e', 'page_number': 1}, embedding: vector of size 1024), Document(id=bb004d5e5b2df0afd216e87b49430811ac7236e605d982d046291c4539ef7534, content: 'itself as ', meta: {'language': 'en', 'source_id': 'd4d878288efba5e28a43ae0195e43dadd0298fe36d3d9b3075c5c5120d27763e', 'page_number': 1}, embedding: vector of size 1024), Document(id=82857ea92aed639191dfb63ec4467e05a69bcd1328242ae5c585d193f52aeb76, content: 'a elegant ', meta: {'language': 'en', 'source_id': 'd4d878288efba5e28a43ae0195e43dadd0298fe36d3d9b3075c5c5120d27763e', 'page_number': 1}, embedding: vector of size 1024), Document(id=50b14d3b76c12c122cf29a55c2049df79e9ee74f387835a51b0d485579297f58, content: 'and as ', meta: {'language': 'en', 'source_id': 'd4d878288efba5e28a43ae0195e43dadd0298fe36d3d9b3075c5c5120d27763e', 'page_number': 1}, embedding: vector of size 1024), Document(id=82eaed2b85b94ba3c7a2aae01d16f265f1244aaeba02b6945e319a7976078249, content: 'a place ', meta: {'language': 'en', 'source_id': 'd4d878288efba5e28a43ae0195e43dadd0298fe36d3d9b3075c5c5120d27763e', 'page_number': 1}, embedding: vector of size 1024), Document(id=302d99a552026105fb9cf3d012beeff9905685034b763830c203145687db9070, content: 'to relax, ', meta: {'language': 'en', 'source_id': 'd4d878288efba5e28a43ae0195e43dadd0298fe36d3d9b3075c5c5120d27763e', 'page_number': 1}, embedding: vector of size 1024), Document(id=0e9fda7b0c06be887482aa5fddc1f782f9be8bec405543ee2472db48bc230eb6, content: 'very wrong ', meta: {'language': 'en', 'source_id': 'd4d878288efba5e28a43ae0195e43dadd0298fe36d3d9b3075c5c5120d27763e', 'page_number': 1}, embedding: vector of size 1024), Document(id=bbb7c1f6c49ea70f47ec840ca21c37326bd03c653676f62e70f82f1469fed7cd, content: 'place to ', meta: {'language': 'en', 'source_id': 'd4d878288efba5e28a43ae0195e43dadd0298fe36d3d9b3075c5c5120d27763e', 'page_number': 1}, embedding: vector of size 1024), Document(id=f8ab232e6bfc878b82472e789fe630afd0eb0f96fcd29c363cb2aff80b0c3317, content: 'relax - ', meta: {'language': 'en', 'source_id': 'd4d878288efba5e28a43ae0195e43dadd0298fe36d3d9b3075c5c5120d27763e', 'page_number': 1}, embedding: vector of size 1024), Document(id=7963ea044a5095b5024d9df02d4d4839cf2cc15c9257ec3b0b2d4f769b53f71a, content: 'you cannot ', meta: {'language': 'en', 'source_id': 'd4d878288efba5e28a43ae0195e43dadd0298fe36d3d9b3075c5c5120d27763e', 'page_number': 1}, embedding: vector of size 1024), Document(id=4177017871874c1064a5345599207e314815670927f19b7875f6fed9ace6d997, content: 'sleep in ', meta: {'language': 'en', 'source_id': 'd4d878288efba5e28a43ae0195e43dadd0298fe36d3d9b3075c5c5120d27763e', 'page_number': 1}, embedding: vector of size 1024), Document(id=a9edef997b1d6e2778314713d7de14466f836743077cba3d817bf454e3c4a7e2, content: 'this appartement, ', meta: {'language': 'en', 'source_id': 'd4d878288efba5e28a43ae0195e43dadd0298fe36d3d9b3075c5c5120d27763e', 'page_number': 1}, embedding: vector of size 1024), Document(id=7cf00005ab5b0b3c1374f4c00bc4a4655ce4e30a0eadc985fa64de88dd330f62, content: 'even the ', meta: {'language': 'en', 'source_id': 'd4d878288efba5e28a43ae0195e43dadd0298fe36d3d9b3075c5c5120d27763e', 'page_number': 1}, embedding: vector of size 1024), Document(id=eb86d3aeb24c52aa293259880e12390172a68c978562d56a664713e38ae02814, content: 'beds are ', meta: {'language': 'en', 'source_id': 'd4d878288efba5e28a43ae0195e43dadd0298fe36d3d9b3075c5c5120d27763e', 'page_number': 1}, embedding: vector of size 1024), Document(id=f2c8ab92ad5a9b14c22cd9704be0699a47f4ccc0c247689b22d83cabc24c5350, content: 'vibrating from ', meta: {'language': 'en', 'source_id': 'd4d878288efba5e28a43ae0195e43dadd0298fe36d3d9b3075c5c5120d27763e', 'page_number': 1}, embedding: vector of size 1024), Document(id=3f512faf23d7497cea402fffc0fd8a81711aa42447e0bcf0a25adfba27d9331c, content: 'the bass ', meta: {'language': 'en', 'source_id': 'd4d878288efba5e28a43ae0195e43dadd0298fe36d3d9b3075c5c5120d27763e', 'page_number': 1}, embedding: vector of size 1024), Document(id=646f8eedbd8edd555ecfc1b8d6c1c141cea17fcd89c8bc2202fe057009424405, content: 'of the ', meta: {'language': 'en', 'source_id': 'd4d878288efba5e28a43ae0195e43dadd0298fe36d3d9b3075c5c5120d27763e', 'page_number': 1}, embedding: vector of size 1024), Document(id=96f5328a3bcc013f0c4a3ee78d1579509012e7fe2686985e9f2da9a3214f3f85, content: 'clubs in ', meta: {'language': 'en', 'source_id': 'd4d878288efba5e28a43ae0195e43dadd0298fe36d3d9b3075c5c5120d27763e', 'page_number': 1}, embedding: vector of size 1024), Document(id=feee047219643d00d918528f8da8e563f8db83f7649afdb5a8c10fa8906d5bc0, content: 'the same ', meta: {'language': 'en', 'source_id': 'd4d878288efba5e28a43ae0195e43dadd0298fe36d3d9b3075c5c5120d27763e', 'page_number': 1}, embedding: vector of size 1024), Document(id=5130e234cb189e52015b2d224bf39911e678f5e08cc7be9b6cca3b652a4227e5, content: 'building - ', meta: {'language': 'en', 'source_id': 'd4d878288efba5e28a43ae0195e43dadd0298fe36d3d9b3075c5c5120d27763e', 'page_number': 1}, embedding: vector of size 1024), Document(id=58747bf77b8c5c50d432e5f703bca02b0b9a14056bfc83cf210c9181343cb49a, content: 'you get ', meta: {'language': 'en', 'source_id': 'd4d878288efba5e28a43ae0195e43dadd0298fe36d3d9b3075c5c5120d27763e', 'page_number': 1}, embedding: vector of size 1024), Document(id=662fff02f45429acd52b9a808a55dfbad6cbb071490ad949a0553b9e033653d0, content: 'ear plugs ', meta: {'language': 'en', 'source_id': 'd4d878288efba5e28a43ae0195e43dadd0298fe36d3d9b3075c5c5120d27763e', 'page_number': 1}, embedding: vector of size 1024), Document(id=1cdb3ec1f0c38548d0e082d97360230b347517b96b63e727ea59375645235f1a, content: 'from the ', meta: {'language': 'en', 'source_id': 'd4d878288efba5e28a43ae0195e43dadd0298fe36d3d9b3075c5c5120d27763e', 'page_number': 1}, embedding: vector of size 1024), Document(id=dba53f6333035cafc0aac08431cff734e6dc517d9e1a1790b5caf9da64119ad2, content: 'hotel -> ', meta: {'language': 'en', 'source_id': 'd4d878288efba5e28a43ae0195e43dadd0298fe36d3d9b3075c5c5120d27763e', 'page_number': 1}, embedding: vector of size 1024), Document(id=e698a3c396f20581f4ea19332b6983cfa72f55053da2a5c9aac931bf02ea8d00, content: 'now I ', meta: {'language': 'en', 'source_id': 'd4d878288efba5e28a43ae0195e43dadd0298fe36d3d9b3075c5c5120d27763e', 'page_number': 1}, embedding: vector of size 1024), Document(id=480a8f27ff1b49091fe7557a0c197d24c420b288b4ddeb06b1136c2f943ee429, content: 'understand why ', meta: {'language': 'en', 'source_id': 'd4d878288efba5e28a43ae0195e43dadd0298fe36d3d9b3075c5c5120d27763e', 'page_number': 1}, embedding: vector of size 1024), Document(id=d7bd91e6bf44da4c5434f58a7e33e39d659c53323936e7c0ef424a65b6ada4da, content: '-> I ', meta: {'language': 'en', 'source_id': 'd4d878288efba5e28a43ae0195e43dadd0298fe36d3d9b3075c5c5120d27763e', 'page_number': 1}, embedding: vector of size 1024), Document(id=c01b1b5794ba0fbfd99885c207b7431bd2f21254e23f688f97c0a20261ea185e, content: 'missed a ', meta: {'language': 'en', 'source_id': 'd4d878288efba5e28a43ae0195e43dadd0298fe36d3d9b3075c5c5120d27763e', 'page_number': 1}, embedding: vector of size 1024), Document(id=158c9e79277899ed7bc691372412be755c71725b530e90e676408225ce972195, content: 'trip as ', meta: {'language': 'en', 'source_id': 'd4d878288efba5e28a43ae0195e43dadd0298fe36d3d9b3075c5c5120d27763e', 'page_number': 1}, embedding: vector of size 1024), Document(id=d638a475b3a3f2cee4b555fd398701f484c4bbe843c6778f71784ffe5e7f5f04, content: 'it was ', meta: {'language': 'en', 'source_id': 'd4d878288efba5e28a43ae0195e43dadd0298fe36d3d9b3075c5c5120d27763e', 'page_number': 1}, embedding: vector of size 1024), Document(id=cac6e3c1c84b2b0ac24c8c05848dec34182e762ae1bedf3dc3971df9fc81a8bc, content: 'so loud ', meta: {'language': 'en', 'source_id': 'd4d878288efba5e28a43ae0195e43dadd0298fe36d3d9b3075c5c5120d27763e', 'page_number': 1}, embedding: vector of size 1024), Document(id=6adccf76346bc59d7ac9421ee134903354208be5e7db13918011b583049126b7, content: 'and I ', meta: {'language': 'en', 'source_id': 'd4d878288efba5e28a43ae0195e43dadd0298fe36d3d9b3075c5c5120d27763e', 'page_number': 1}, embedding: vector of size 1024), Document(id=903cda27d53cc3222c38ba9e64f16f3c998c092ee7bb980cbbd0b645244b72be, content: 'could not ', meta: {'language': 'en', 'source_id': 'd4d878288efba5e28a43ae0195e43dadd0298fe36d3d9b3075c5c5120d27763e', 'page_number': 1}, embedding: vector of size 1024), Document(id=5c9d7bb2db03c1b7dad48da168931ecadb0b163edd2915453d32d8a6228ceeea, content: 'alarm next ', meta: {'language': 'en', 'source_id': 'd4d878288efba5e28a43ae0195e43dadd0298fe36d3d9b3075c5c5120d27763e', 'page_number': 1}, embedding: vector of size 1024), Document(id=3bca6365b4f3df12d81ff58f3589f2437b5530d53700e4d805a10194fab6365d, content: 'day due ', meta: {'language': 'en', 'source_id': 'd4d878288efba5e28a43ae0195e43dadd0298fe36d3d9b3075c5c5120d27763e', 'page_number': 1}, embedding: vector of size 1024), Document(id=a2082286b6b1525727797b8910ea45d630f46ce2b65266a13f2132820693f539, content: 'ear plugs.- ', meta: {'language': 'en', 'source_id': 'd4d878288efba5e28a43ae0195e43dadd0298fe36d3d9b3075c5c5120d27763e', 'page_number': 1}, embedding: vector of size 1024), Document(id=a0544d00d0cd2e891040c87605d3fa586b8fd54456b8019d2be375177fecd749, content: 'there is ', meta: {'language': 'en', 'source_id': 'd4d878288efba5e28a43ae0195e43dadd0298fe36d3d9b3075c5c5120d27763e', 'page_number': 1}, embedding: vector of size 1024), Document(id=90ff5c6b77c3cd1509d427c3cef0e2e01c51055ed35236aa212989c55ed93ab0, content: 'a green ', meta: {'language': 'en', 'source_id': 'd4d878288efba5e28a43ae0195e43dadd0298fe36d3d9b3075c5c5120d27763e', 'page_number': 1}, embedding: vector of size 1024), Document(id=f2030d36235c41c1825914306c973be79ae82d4187457e95892f8de7a3f9510e, content: 'light indicating ', meta: {'language': 'en', 'source_id': 'd4d878288efba5e28a43ae0195e43dadd0298fe36d3d9b3075c5c5120d27763e', 'page_number': 1}, embedding: vector of size 1024), Document(id=a2cf8369f91c12a5f65ed68f3df620c347153168910822882f2ce56e78ed06d7, content: ''emergency exit' ', meta: {'language': 'en', 'source_id': 'd4d878288efba5e28a43ae0195e43dadd0298fe36d3d9b3075c5c5120d27763e', 'page_number': 1}, embedding: vector of size 1024), Document(id=d1f8b4dce97cc308c64b0418c6f204f8c462e1d9427158c756507d28fcf9ddec, content: 'just above ', meta: {'language': 'en', 'source_id': 'd4d878288efba5e28a43ae0195e43dadd0298fe36d3d9b3075c5c5120d27763e', 'page_number': 1}, embedding: vector of size 1024), Document(id=14bb407cc66c001e780dd78e741a4f020a434b771a9e5bc9cd026486218efed1, content: 'the bed, ', meta: {'language': 'en', 'source_id': 'd4d878288efba5e28a43ae0195e43dadd0298fe36d3d9b3075c5c5120d27763e', 'page_number': 1}, embedding: vector of size 1024), Document(id=df534e21f2cc529d84961682cb6978b353d96319afed5b812603351daa924ef5, content: 'which shines ', meta: {'language': 'en', 'source_id': 'd4d878288efba5e28a43ae0195e43dadd0298fe36d3d9b3075c5c5120d27763e', 'page_number': 1}, embedding: vector of size 1024), Document(id=6365a6d29a450d27042b5fb025d19949e3083206f0e8bfcfe81530e9b83b99ef, content: 'very bright ', meta: {'language': 'en', 'source_id': 'd4d878288efba5e28a43ae0195e43dadd0298fe36d3d9b3075c5c5120d27763e', 'page_number': 1}, embedding: vector of size 1024), Document(id=7a8c67fbf01c6bbb45673abb321c0015026e8f4a06acd5d64f447de294a8d55e, content: 'at night ', meta: {'language': 'en', 'source_id': 'd4d878288efba5e28a43ae0195e43dadd0298fe36d3d9b3075c5c5120d27763e', 'page_number': 1}, embedding: vector of size 1024), Document(id=005c6ff1599671be6c10b13a6b6ab47d4788dbd33e92e0b379c7216ad89abdbe, content: '- during ', meta: {'language': 'en', 'source_id': 'd4d878288efba5e28a43ae0195e43dadd0298fe36d3d9b3075c5c5120d27763e', 'page_number': 1}, embedding: vector of size 1024), Document(id=af5f32347e0400b26663b4ae4163669c6fbbb3da3ede0d71e8405a51182cfb13, content: 'the arrival ', meta: {'language': 'en', 'source_id': 'd4d878288efba5e28a43ae0195e43dadd0298fe36d3d9b3075c5c5120d27763e', 'page_number': 1}, embedding: vector of size 1024), Document(id=f03dc12057ccc6b21cc87a824bc9b56e3713bf1b132c1a53698c33e314cb0568, content: 'process, you ', meta: {'language': 'en', 'source_id': 'd4d878288efba5e28a43ae0195e43dadd0298fe36d3d9b3075c5c5120d27763e', 'page_number': 1}, embedding: vector of size 1024), Document(id=45ac55c0f9c512c808c8bd1b60b7c748c2f034965bc1f9601d6c01a02d50e2fd, content: 'felt the ', meta: {'language': 'en', 'source_id': 'd4d878288efba5e28a43ae0195e43dadd0298fe36d3d9b3075c5c5120d27763e', 'page_number': 1}, embedding: vector of size 1024), Document(id=d95eddf21753f6898cdb323b4eab45e29dff8e20595104e309f92c7a81c08825, content: 'urge of ', meta: {'language': 'en', 'source_id': 'd4d878288efba5e28a43ae0195e43dadd0298fe36d3d9b3075c5c5120d27763e', 'page_number': 1}, embedding: vector of size 1024), Document(id=f9bd9d4c36a3a2f7b7c5ac4297b7f34d2798ed3d5aa920ff56f7bf54e0d0a481, content: 'the agent ', meta: {'language': 'en', 'source_id': 'd4d878288efba5e28a43ae0195e43dadd0298fe36d3d9b3075c5c5120d27763e', 'page_number': 1}, embedding: vector of size 1024), Document(id=9aaa9ca928e44114269f8cc5916c83d70c4f2b6fe5280ce5cd0f080ab645616e, content: 'to leave ', meta: {'language': 'en', 'source_id': 'd4d878288efba5e28a43ae0195e43dadd0298fe36d3d9b3075c5c5120d27763e', 'page_number': 1}, embedding: vector of size 1024), Document(id=e3974d294d3936a12f9daf80b0802799cefe10d3445c402503dedcf7c8683e11, content: 'as soon ', meta: {'language': 'en', 'source_id': 'd4d878288efba5e28a43ae0195e43dadd0298fe36d3d9b3075c5c5120d27763e', 'page_number': 1}, embedding: vector of size 1024), Document(id=a359b769a93874fc6e00881b95c0d96b6f0b154aa2f570dd776983db62b62e00, content: 'as possible. ', meta: {'language': 'en', 'source_id': 'd4d878288efba5e28a43ae0195e43dadd0298fe36d3d9b3075c5c5120d27763e', 'page_number': 1}, embedding: vector of size 1024), Document(id=8d9bffc6afdb87ebf303891946b0133f5ea57d97d2c3026ec1efc2e0f203179d, content: '- try ', meta: {'language': 'en', 'source_id': 'd4d878288efba5e28a43ae0195e43dadd0298fe36d3d9b3075c5c5120d27763e', 'page_number': 1}, embedding: vector of size 1024), Document(id=f29a3be76654316da2fb772a7ebaf4e0c27c107a4c12319dca68a8fc56ba6353, content: 'to go ', meta: {'language': 'en', 'source_id': 'd4d878288efba5e28a43ae0195e43dadd0298fe36d3d9b3075c5c5120d27763e', 'page_number': 1}, embedding: vector of size 1024), Document(id=7f5ca634167d9de69715d0fdad6b95ab921a02a0ef7f0fb9fd3d9b36d07322f6, content: 'to 'RVA ', meta: {'language': 'en', 'source_id': 'd4d878288efba5e28a43ae0195e43dadd0298fe36d3d9b3075c5c5120d27763e', 'page_number': 1}, embedding: vector of size 1024), Document(id=4d3842f211ff2f1814c19cda3bf45cc7dd7231a869b6438c7f3eae82eb6ae518, content: 'clerigos appartements' ', meta: {'language': 'en', 'source_id': 'd4d878288efba5e28a43ae0195e43dadd0298fe36d3d9b3075c5c5120d27763e', 'page_number': 1}, embedding: vector of size 1024), Document(id=5075898e88b90106ae555c27519122dce5f8ad7a653a4ce55a2e44b7ac65614d, content: '-> same ', meta: {'language': 'en', 'source_id': 'd4d878288efba5e28a43ae0195e43dadd0298fe36d3d9b3075c5c5120d27763e', 'page_number': 1}, embedding: vector of size 1024), Document(id=e3e78a202698c7ba455a882d6bd16fe2363d049943968b0c34eda13dd018619f, content: 'price, super ', meta: {'language': 'en', 'source_id': 'd4d878288efba5e28a43ae0195e43dadd0298fe36d3d9b3075c5c5120d27763e', 'page_number': 1}, embedding: vector of size 1024), Document(id=beaadb90c34ea9f6ad93a4cadbdcf018cd4e5cbdef519a607b9b3989a4f32d8e, content: 'quiet, beautiful, ', meta: {'language': 'en', 'source_id': 'd4d878288efba5e28a43ae0195e43dadd0298fe36d3d9b3075c5c5120d27763e', 'page_number': 1}, embedding: vector of size 1024), Document(id=69a917a01c4cfa67d0975d6c6c113c5cd04188e030389ffed6ac7771d8e50ec6, content: 'city center ', meta: {'language': 'en', 'source_id': 'd4d878288efba5e28a43ae0195e43dadd0298fe36d3d9b3075c5c5120d27763e', 'page_number': 1}, embedding: vector of size 1024), Document(id=f08bd21da165ec18f1ec97f24991b22f911cd0ca6f40969d2229ca6e44c00367, content: 'and very ', meta: {'language': 'en', 'source_id': 'd4d878288efba5e28a43ae0195e43dadd0298fe36d3d9b3075c5c5120d27763e', 'page_number': 1}, embedding: vector of size 1024), Document(id=7ed195c07c0b732be4bf6294df264e191392ddf5d4a8d93feed8005184b48943, content: 'nice staff ', meta: {'language': 'en', 'source_id': 'd4d878288efba5e28a43ae0195e43dadd0298fe36d3d9b3075c5c5120d27763e', 'page_number': 1}, embedding: vector of size 1024), Document(id=70b6b98f7518a4493226d8a7a25c2c427e22249925fcf192a0941bf8848464ec, content: '(not an ', meta: {'language': 'en', 'source_id': 'd4d878288efba5e28a43ae0195e43dadd0298fe36d3d9b3075c5c5120d27763e', 'page_number': 1}, embedding: vector of size 1024), Document(id=621ae5dfcd2aeb10b134b3fef9f672c9debb5bcfe20bd00e1e3f194286151532, content: 'agency)- you ', meta: {'language': 'en', 'source_id': 'd4d878288efba5e28a43ae0195e43dadd0298fe36d3d9b3075c5c5120d27763e', 'page_number': 1}, embedding: vector of size 1024), Document(id=3e32d40ff39b315a2c07ddbca8a3463df2019bd3f0309084eac7596fba45c2b9, content: 'are basically ', meta: {'language': 'en', 'source_id': 'd4d878288efba5e28a43ae0195e43dadd0298fe36d3d9b3075c5c5120d27763e', 'page_number': 1}, embedding: vector of size 1024), Document(id=95148fb745be7c9c46d58d01e2cf4842d60917f9e9cedcd09c312bf4fb1aadc1, content: 'sleeping next ', meta: {'language': 'en', 'source_id': 'd4d878288efba5e28a43ae0195e43dadd0298fe36d3d9b3075c5c5120d27763e', 'page_number': 1}, embedding: vector of size 1024), Document(id=fdad7aa5869c824fed577baaf5187612ce4d2e40690373f04d2b0d5595832012, content: 'to the ', meta: {'language': 'en', 'source_id': 'd4d878288efba5e28a43ae0195e43dadd0298fe36d3d9b3075c5c5120d27763e', 'page_number': 1}, embedding: vector of size 1024), Document(id=801f3c5dbaa6f92e2a23f9a53209f9af23c6f696297e1b8adae541c779a9e712, content: 'fridge, which ', meta: {'language': 'en', 'source_id': 'd4d878288efba5e28a43ae0195e43dadd0298fe36d3d9b3075c5c5120d27763e', 'page_number': 1}, embedding: vector of size 1024), Document(id=239e5483483732fc1f981d975c9057bbd11b3c7d67ce91537a7ceaf765b14570, content: 'makes a ', meta: {'language': 'en', 'source_id': 'd4d878288efba5e28a43ae0195e43dadd0298fe36d3d9b3075c5c5120d27763e', 'page_number': 1}, embedding: vector of size 1024), Document(id=a4992af1a94ce3776ba9b1a038b80f4e6dbbe344202948c60eb4c39f6a7b9242, content: 'lot of ', meta: {'language': 'en', 'source_id': 'd4d878288efba5e28a43ae0195e43dadd0298fe36d3d9b3075c5c5120d27763e', 'page_number': 1}, embedding: vector of size 1024), Document(id=ff51780b179053cc9d200b675b76db402cb9c8163e1875e3fe56bd58f0ec0a81, content: 'noise, when ', meta: {'language': 'en', 'source_id': 'd4d878288efba5e28a43ae0195e43dadd0298fe36d3d9b3075c5c5120d27763e', 'page_number': 1}, embedding: vector of size 1024), Document(id=6c98e55fd2c4c67879efd01cedd9f6ec07608f2f4547ef47172a3674f01b03ee, content: 'the compressor ', meta: {'language': 'en', 'source_id': 'd4d878288efba5e28a43ae0195e43dadd0298fe36d3d9b3075c5c5120d27763e', 'page_number': 1}, embedding: vector of size 1024), Document(id=af5e3e66b922a0e8c91119fa94ec7511e81e1ee8023ed97a5d09c4d118d72969, content: 'is running ', meta: {'language': 'en', 'source_id': 'd4d878288efba5e28a43ae0195e43dadd0298fe36d3d9b3075c5c5120d27763e', 'page_number': 1}, embedding: vector of size 1024), Document(id=50b5cda3c7987ce816cc6752f1a423d0f24a4c38bed9b2be84a03f8a28393016, content: '-> had ', meta: {'language': 'en', 'source_id': 'd4d878288efba5e28a43ae0195e43dadd0298fe36d3d9b3075c5c5120d27763e', 'page_number': 1}, embedding: vector of size 1024), Document(id=75d18a751ba44aab72b772311d9354cdffd0dbbd22653be69752623fe7f2a55d, content: 'to switch ', meta: {'language': 'en', 'source_id': 'd4d878288efba5e28a43ae0195e43dadd0298fe36d3d9b3075c5c5120d27763e', 'page_number': 1}, embedding: vector of size 1024), Document(id=94346e349cab995655c5a4e27dc7db76f8d609e6fd29154db3cc78be5c32b122, content: 'it off ', meta: {'language': 'en', 'source_id': 'd4d878288efba5e28a43ae0195e43dadd0298fe36d3d9b3075c5c5120d27763e', 'page_number': 1}, embedding: vector of size 1024), Document(id=ad9e035f16b27eaf878627e9c10b8fd549d7d11043a101538a764c9d9bd9c19a, content: '- but ', meta: {'language': 'en', 'source_id': 'd4d878288efba5e28a43ae0195e43dadd0298fe36d3d9b3075c5c5120d27763e', 'page_number': 1}, embedding: vector of size 1024), Document(id=80673557437845b28847af7c64c0ae9101aec0b94740291db0f19cdbd87ddd64, content: 'then had ', meta: {'language': 'en', 'source_id': 'd4d878288efba5e28a43ae0195e43dadd0298fe36d3d9b3075c5c5120d27763e', 'page_number': 1}, embedding: vector of size 1024), Document(id=4aed184c7f579b48e09c5f6309ecd6a36d655fb9b6caef672d29362f1a41585a, content: 'no cool ', meta: {'language': 'en', 'source_id': 'd4d878288efba5e28a43ae0195e43dadd0298fe36d3d9b3075c5c5120d27763e', 'page_number': 1}, embedding: vector of size 1024), Document(id=59ffc861618243dab1008421c09d702552cee1dc5619e3001e56b7167009ba9a, content: 'food and ', meta: {'language': 'en', 'source_id': 'd4d878288efba5e28a43ae0195e43dadd0298fe36d3d9b3075c5c5120d27763e', 'page_number': 1}, embedding: vector of size 1024), Document(id=06615e319ee0729633a30504ef4a59e54f0f8d61504af06ee7f832cbc6b1019a, content: 'drinks. - ', meta: {'language': 'en', 'source_id': 'd4d878288efba5e28a43ae0195e43dadd0298fe36d3d9b3075c5c5120d27763e', 'page_number': 1}, embedding: vector of size 1024), Document(id=84112809b1232e68465b7fdf635b7b1dab1b99e1ef4800ea2305d199091ef36d, content: 'the bed ', meta: {'language': 'en', 'source_id': 'd4d878288efba5e28a43ae0195e43dadd0298fe36d3d9b3075c5c5120d27763e', 'page_number': 1}, embedding: vector of size 1024), Document(id=b70b773a595f382968c8af1c43f19c7aace1bb03dfc96df8c72e71c062c776b8, content: 'was somehow ', meta: {'language': 'en', 'source_id': 'd4d878288efba5e28a43ae0195e43dadd0298fe36d3d9b3075c5c5120d27763e', 'page_number': 1}, embedding: vector of size 1024), Document(id=f6758c8bac583fd9380f3b27be8c1b4aaad0a0fba29898e2f693d4717321f2b0, content: 'broken down ', meta: {'language': 'en', 'source_id': 'd4d878288efba5e28a43ae0195e43dadd0298fe36d3d9b3075c5c5120d27763e', 'page_number': 1}, embedding: vector of size 1024), Document(id=f003f7cb7023ff45ccf96c83f04b671e005b25f057c9346ace5ca1afeefb827b, content: '- the ', meta: {'language': 'en', 'source_id': 'd4d878288efba5e28a43ae0195e43dadd0298fe36d3d9b3075c5c5120d27763e', 'page_number': 1}, embedding: vector of size 1024), Document(id=80c85602baf53228d214ca1f4e996601d43e2d4909e81545f12b9c459853eb92, content: 'wooden part ', meta: {'language': 'en', 'source_id': 'd4d878288efba5e28a43ae0195e43dadd0298fe36d3d9b3075c5c5120d27763e', 'page_number': 1}, embedding: vector of size 1024), Document(id=9d0159acf6ec7ceb52935b56a5f64ce24567271ecb977ad6cd32c54e542d8819, content: 'behind the ', meta: {'language': 'en', 'source_id': 'd4d878288efba5e28a43ae0195e43dadd0298fe36d3d9b3075c5c5120d27763e', 'page_number': 1}, embedding: vector of size 1024), Document(id=ab61d5b4806e7ff959128d55d6189778c54395ffe7f2a1392b123a54ce75c65c, content: 'bed was ', meta: {'language': 'en', 'source_id': 'd4d878288efba5e28a43ae0195e43dadd0298fe36d3d9b3075c5c5120d27763e', 'page_number': 1}, embedding: vector of size 1024), Document(id=dd9fff88025d35851c9b5e6c2569de49a072a365f927279506af9134a18caccc, content: 'almost falling ', meta: {'language': 'en', 'source_id': 'd4d878288efba5e28a43ae0195e43dadd0298fe36d3d9b3075c5c5120d27763e', 'page_number': 1}, embedding: vector of size 1024), Document(id=bd61fea2f1561e64d60a2e2afedabc7e9092b276eaa3f7da6d168f1eae0513b8, content: 'appart and ', meta: {'language': 'en', 'source_id': 'd4d878288efba5e28a43ae0195e43dadd0298fe36d3d9b3075c5c5120d27763e', 'page_number': 1}, embedding: vector of size 1024), Document(id=88ddcef3cee4e098f06b0bb616ca7bbcb8e2a2e9dfc083d32962b1e54618f9d9, content: 'some hooks ', meta: {'language': 'en', 'source_id': 'd4d878288efba5e28a43ae0195e43dadd0298fe36d3d9b3075c5c5120d27763e', 'page_number': 1}, embedding: vector of size 1024), Document(id=10d78cab33971213d92e999f91b2d53ff66fe9400ce006348c0dcddcd8a15d15, content: 'were broken ', meta: {'language': 'en', 'source_id': 'd4d878288efba5e28a43ae0195e43dadd0298fe36d3d9b3075c5c5120d27763e', 'page_number': 1}, embedding: vector of size 1024), Document(id=9b0f83aeb4505d2e7c253b696d7e4bf817bc88593f78677c23eff4ca2258c12b, content: 'before- when ', meta: {'language': 'en', 'source_id': 'd4d878288efba5e28a43ae0195e43dadd0298fe36d3d9b3075c5c5120d27763e', 'page_number': 1}, embedding: vector of size 1024), Document(id=4e995edd27c6c8345036cb16392bf8b668273140fae98bac521158fb36aeff31, content: 'the neighbour ', meta: {'language': 'en', 'source_id': 'd4d878288efba5e28a43ae0195e43dadd0298fe36d3d9b3075c5c5120d27763e', 'page_number': 1}, embedding: vector of size 1024), Document(id=9325361a017b2964e0e4f670ff14ed353d40f1c2e921710b707be9370b969d67, content: 'room is ', meta: {'language': 'en', 'source_id': 'd4d878288efba5e28a43ae0195e43dadd0298fe36d3d9b3075c5c5120d27763e', 'page_number': 1}, embedding: vector of size 1024), Document(id=0a2d1ef0132f1f1adba489944b4649a7abe7de0ff1e12c0b75e7bfbed4ae581c, content: 'cooking you ', meta: {'language': 'en', 'source_id': 'd4d878288efba5e28a43ae0195e43dadd0298fe36d3d9b3075c5c5120d27763e', 'page_number': 1}, embedding: vector of size 1024), Document(id=47c03c7350ea5696f2beb15256fd2c7149c9d12cc7e3e340ca3f33a5372d2913, content: 'hear the ', meta: {'language': 'en', 'source_id': 'd4d878288efba5e28a43ae0195e43dadd0298fe36d3d9b3075c5c5120d27763e', 'page_number': 1}, embedding: vector of size 1024), Document(id=59632fbee7ae6d93bc40a8388c1188d3a2ef43f244eb664eef292ba054175c11, content: 'fan very ', meta: {'language': 'en', 'source_id': 'd4d878288efba5e28a43ae0195e43dadd0298fe36d3d9b3075c5c5120d27763e', 'page_number': 1}, embedding: vector of size 1024), Document(id=c81fc0b1d2ba35834c80232aad6c07efdf1b8324b467aa3548a33d1ac1392b59, content: 'loud. I ', meta: {'language': 'en', 'source_id': 'd4d878288efba5e28a43ae0195e43dadd0298fe36d3d9b3075c5c5120d27763e', 'page_number': 1}, embedding: vector of size 1024), Document(id=4f862965bef6202f5a2d8fd8b7e31c3980de93d885dae5ad17dbf0e8449acb85, content: 'initially thought ', meta: {'language': 'en', 'source_id': 'd4d878288efba5e28a43ae0195e43dadd0298fe36d3d9b3075c5c5120d27763e', 'page_number': 1}, embedding: vector of size 1024), Document(id=9533cfd0ecfe93a4cf8a5fe36c98e3de763e8a2bf4589afa7689bb53aa7c75c5, content: 'that I ', meta: {'language': 'en', 'source_id': 'd4d878288efba5e28a43ae0195e43dadd0298fe36d3d9b3075c5c5120d27763e', 'page_number': 1}, embedding: vector of size 1024), Document(id=53da648192187525374cd601c7fcb6dc461cff775cc66d67736150cc2f222215, content: 'somehow activated ', meta: {'language': 'en', 'source_id': 'd4d878288efba5e28a43ae0195e43dadd0298fe36d3d9b3075c5c5120d27763e', 'page_number': 1}, embedding: vector of size 1024), Document(id=684ba8d004bc6cb3522b6dd290ddf2123af13a2a0ea6d9019e13e31d97c4ac11, content: 'the kitchen ', meta: {'language': 'en', 'source_id': 'd4d878288efba5e28a43ae0195e43dadd0298fe36d3d9b3075c5c5120d27763e', 'page_number': 1}, embedding: vector of size 1024), Document(id=ae05b1827e87711ea14909710464790b1edca72ab57f6d1cae48f69e6200e10c, content: 'fan', meta: {'language': 'en', 'source_id': 'd4d878288efba5e28a43ae0195e43dadd0298fe36d3d9b3075c5c5120d27763e', 'page_number': 1}, embedding: vector of size 1024)]\n",
      "French documents  [Document(id=10574165f8e43e2bbbbf87053d3c5075c21a35cc1354703b85ffbacac65bc551, content: 'Super appartement. ', meta: {'language': 'fr', 'source_id': 'ea7ea338874232de2d8105a258813f50345db82772e21ad2c4549dbb7adce8a3', 'page_number': 1}, embedding: vector of size 1024), Document(id=9c5c206204e880c2f1f5ed00ab860f5a893dfdef0d20f590fc0997d5fe404208, content: 'Juste au ', meta: {'language': 'fr', 'source_id': 'ea7ea338874232de2d8105a258813f50345db82772e21ad2c4549dbb7adce8a3', 'page_number': 1}, embedding: vector of size 1024), Document(id=23690188dabf1e6d3384b922be7ca3c0f1b998fbf4e3db231bdee3a6b47958ec, content: 'dessus de ', meta: {'language': 'fr', 'source_id': 'ea7ea338874232de2d8105a258813f50345db82772e21ad2c4549dbb7adce8a3', 'page_number': 1}, embedding: vector of size 1024), Document(id=28c966d68bd9d01ee3ea64e3802227751141cf0643d8333d99efe4c4b0314cfc, content: 'plusieurs bars ', meta: {'language': 'fr', 'source_id': 'ea7ea338874232de2d8105a258813f50345db82772e21ad2c4549dbb7adce8a3', 'page_number': 1}, embedding: vector of size 1024), Document(id=bec9e397a439753aae964cd77825e6e3bb1428facced3bc731b06cf17414f675, content: 'qui ferment ', meta: {'language': 'fr', 'source_id': 'ea7ea338874232de2d8105a258813f50345db82772e21ad2c4549dbb7adce8a3', 'page_number': 1}, embedding: vector of size 1024), Document(id=9d7fdca6693248ee680d3b3abe0a8d62bfcc8732dea56072c1b80551db95968f, content: 'très tard. ', meta: {'language': 'fr', 'source_id': 'ea7ea338874232de2d8105a258813f50345db82772e21ad2c4549dbb7adce8a3', 'page_number': 1}, embedding: vector of size 1024), Document(id=247ecd3d24489547c5ed1ef282f47a69b87ad710aa26c7a26c5fd1c2737255b2, content: 'A savoir ', meta: {'language': 'fr', 'source_id': 'ea7ea338874232de2d8105a258813f50345db82772e21ad2c4549dbb7adce8a3', 'page_number': 1}, embedding: vector of size 1024), Document(id=bb82e88ac509c40a26db1ba8b6de2fed495d920b4b9a8a764c5ed10d1c3ece77, content: 'à l'avance. ', meta: {'language': 'fr', 'source_id': 'ea7ea338874232de2d8105a258813f50345db82772e21ad2c4549dbb7adce8a3', 'page_number': 1}, embedding: vector of size 1024), Document(id=4250d3228b71f46d0ca2e2de0a3beaed4f419668b7ae1950c1d01338568307eb, content: '(Bouchons d'oreilles ', meta: {'language': 'fr', 'source_id': 'ea7ea338874232de2d8105a258813f50345db82772e21ad2c4549dbb7adce8a3', 'page_number': 1}, embedding: vector of size 1024), Document(id=c60b499cfc45f78326cee42e11991461cfef0d39d89b133b6e6ccaae71b2b568, content: 'fournis !)', meta: {'language': 'fr', 'source_id': 'ea7ea338874232de2d8105a258813f50345db82772e21ad2c4549dbb7adce8a3', 'page_number': 1}, embedding: vector of size 1024), Document(id=607551d57b7869bf7aaf2ad7f83c3aac9885d23bba84b329490badbd8c5e4cdd, content: 'Un peu ', meta: {'language': 'fr', 'source_id': '6b64c8a60543ee32b81cd39bc8d6e09fae4bff1b22c6ccdcf414db26fa354e7a', 'page_number': 1}, embedding: vector of size 1024), Document(id=4a2dd295029fc64897eb48c595104973a3a017b098034b1a09b23a1324c28328, content: 'salé surtout ', meta: {'language': 'fr', 'source_id': '6b64c8a60543ee32b81cd39bc8d6e09fae4bff1b22c6ccdcf414db26fa354e7a', 'page_number': 1}, embedding: vector of size 1024), Document(id=ce183cd2a9e3a219e345f089cf95756c784a576114ee93d5875e6a2845697cce, content: 'le sol. ', meta: {'language': 'fr', 'source_id': '6b64c8a60543ee32b81cd39bc8d6e09fae4bff1b22c6ccdcf414db26fa354e7a', 'page_number': 1}, embedding: vector of size 1024), Document(id=253247f956e0e59d56b3ffedd4515e62f250f2d940991678bd503c590ac0029d, content: 'Manque de ', meta: {'language': 'fr', 'source_id': '6b64c8a60543ee32b81cd39bc8d6e09fae4bff1b22c6ccdcf414db26fa354e7a', 'page_number': 1}, embedding: vector of size 1024), Document(id=38b61056a87998bed3858a421cbf918d9536bd80959cba8f1ea34eb8b3e0233a, content: 'service et ', meta: {'language': 'fr', 'source_id': '6b64c8a60543ee32b81cd39bc8d6e09fae4bff1b22c6ccdcf414db26fa354e7a', 'page_number': 1}, embedding: vector of size 1024), Document(id=360abeb0aab4e5869de19c57ddf042f6f64f5564dfbbd242f53e6b706bf96718, content: 'de souplesse', meta: {'language': 'fr', 'source_id': '6b64c8a60543ee32b81cd39bc8d6e09fae4bff1b22c6ccdcf414db26fa354e7a', 'page_number': 1}, embedding: vector of size 1024), Document(id=012a76ef0ad002b6b2ef9a091c76fc39b3e7df035fb09465adc10f4c7ccf9cce, content: 'Nous avons ', meta: {'language': 'fr', 'source_id': 'b1be23526f19a8af80a190e775bfd05e65878e585529037cb45b47267a4eaa98', 'page_number': 1}, embedding: vector of size 1024), Document(id=03a3d8d4aa2819883df9905d8e3b5908de46b79707ddab4ce3c790556a3f3624, content: 'passé un ', meta: {'language': 'fr', 'source_id': 'b1be23526f19a8af80a190e775bfd05e65878e585529037cb45b47267a4eaa98', 'page_number': 1}, embedding: vector of size 1024), Document(id=6919f2524f23e92bce4629eef831255a88178a6cc5e2673852ce49b59b00ee6e, content: 'séjour formidable. ', meta: {'language': 'fr', 'source_id': 'b1be23526f19a8af80a190e775bfd05e65878e585529037cb45b47267a4eaa98', 'page_number': 1}, embedding: vector of size 1024), Document(id=bc51594ec9dd216ad2053ef5aa6e78f8a113b16443497367030362a72452518b, content: 'Merci aux ', meta: {'language': 'fr', 'source_id': 'b1be23526f19a8af80a190e775bfd05e65878e585529037cb45b47267a4eaa98', 'page_number': 1}, embedding: vector of size 1024), Document(id=26510a1827be5925c9075ba0fe36f7cf7f68fb09e5977b554217650d863be70f, content: 'personnes , ', meta: {'language': 'fr', 'source_id': 'b1be23526f19a8af80a190e775bfd05e65878e585529037cb45b47267a4eaa98', 'page_number': 1}, embedding: vector of size 1024), Document(id=da67dca49bc40431350521584fd70b25a942e97ce409a2c4e9eb179d7e2d0645, content: 'le bonjours ', meta: {'language': 'fr', 'source_id': 'b1be23526f19a8af80a190e775bfd05e65878e585529037cb45b47267a4eaa98', 'page_number': 1}, embedding: vector of size 1024), Document(id=50280c5401d0801808cfaff9f151f8bac1d93db2fcffbee3b17e04a8659b0221, content: 'à Ricardo ', meta: {'language': 'fr', 'source_id': 'b1be23526f19a8af80a190e775bfd05e65878e585529037cb45b47267a4eaa98', 'page_number': 1}, embedding: vector of size 1024), Document(id=3d5a9741d9539144a6e7ecaa8cbd4980fad09dde1d8bac821f4add421af4ce74, content: 'notre taxi ', meta: {'language': 'fr', 'source_id': 'b1be23526f19a8af80a190e775bfd05e65878e585529037cb45b47267a4eaa98', 'page_number': 1}, embedding: vector of size 1024), Document(id=15ac50c6f3df86ef7aa06378328d2342d58f34b5dab3b22b6124e265bf7849f4, content: 'man, très ', meta: {'language': 'fr', 'source_id': 'b1be23526f19a8af80a190e775bfd05e65878e585529037cb45b47267a4eaa98', 'page_number': 1}, embedding: vector of size 1024), Document(id=f742986cc7ad99f3d056247152aae88d2b3a0810f726bd1d2b3c53e8b0ca26da, content: 'sympathique. Je ', meta: {'language': 'fr', 'source_id': 'b1be23526f19a8af80a190e775bfd05e65878e585529037cb45b47267a4eaa98', 'page_number': 1}, embedding: vector of size 1024), Document(id=6025d60070a0e879f7d96ef0601d4b4c6d8d78e81670fb5b5341b5149559890a, content: 'pense refaire ', meta: {'language': 'fr', 'source_id': 'b1be23526f19a8af80a190e775bfd05e65878e585529037cb45b47267a4eaa98', 'page_number': 1}, embedding: vector of size 1024), Document(id=ded115e5d6419ad142527275dac06ae61d27e34b7a3bc99ca20b6dbe8a1de5d3, content: 'un séjour ', meta: {'language': 'fr', 'source_id': 'b1be23526f19a8af80a190e775bfd05e65878e585529037cb45b47267a4eaa98', 'page_number': 1}, embedding: vector of size 1024), Document(id=d8f533635f4db0f36fa2f4a085f8bccc2c587740932c5cc044cc8092c11360e4, content: 'parmi vous, ', meta: {'language': 'fr', 'source_id': 'b1be23526f19a8af80a190e775bfd05e65878e585529037cb45b47267a4eaa98', 'page_number': 1}, embedding: vector of size 1024), Document(id=f0ced88fb97d2813e01380016e9862e1c0231fc64f0f19bed71bfb9ef7de4d13, content: 'après le ', meta: {'language': 'fr', 'source_id': 'b1be23526f19a8af80a190e775bfd05e65878e585529037cb45b47267a4eaa98', 'page_number': 1}, embedding: vector of size 1024), Document(id=d0d9752f120dddd0669f585d6da05f312459ec218af74b45ac37338ac1bfaa5a, content: 'confinement, tout ', meta: {'language': 'fr', 'source_id': 'b1be23526f19a8af80a190e775bfd05e65878e585529037cb45b47267a4eaa98', 'page_number': 1}, embedding: vector of size 1024), Document(id=b6d051554b5b4932595a63628057636541852723e17066e16ae89880cf6bbd13, content: 'était parfait, ', meta: {'language': 'fr', 'source_id': 'b1be23526f19a8af80a190e775bfd05e65878e585529037cb45b47267a4eaa98', 'page_number': 1}, embedding: vector of size 1024), Document(id=e2eb6eca1414a48a5ad8be1302cbd3f29b4b6873ba02264086ae710cea5a4b6c, content: 'surtout leur ', meta: {'language': 'fr', 'source_id': 'b1be23526f19a8af80a190e775bfd05e65878e585529037cb45b47267a4eaa98', 'page_number': 1}, embedding: vector of size 1024), Document(id=073037075afc6ac4f7a97b74ef3d87931150363f4d486d6031e3a55f58a846d1, content: 'gentillesse, aucune ', meta: {'language': 'fr', 'source_id': 'b1be23526f19a8af80a190e775bfd05e65878e585529037cb45b47267a4eaa98', 'page_number': 1}, embedding: vector of size 1024), Document(id=860a7745ce874bf75750870555d3f2a4256e333832cc9fcfc5cd9dd944a07451, content: 'chaude négative. ', meta: {'language': 'fr', 'source_id': 'b1be23526f19a8af80a190e775bfd05e65878e585529037cb45b47267a4eaa98', 'page_number': 1}, embedding: vector of size 1024), Document(id=1a6546ee2d21a76916129a93c34a5b72762663c7126f3ea242b8542d15138893, content: 'Je n'ai ', meta: {'language': 'fr', 'source_id': 'b1be23526f19a8af80a190e775bfd05e65878e585529037cb45b47267a4eaa98', 'page_number': 1}, embedding: vector of size 1024), Document(id=b9b274df7f3fc179be0798ee1d52bac2833fa47796f26b9a1a3a8fadc930e48a, content: 'rien à ', meta: {'language': 'fr', 'source_id': 'b1be23526f19a8af80a190e775bfd05e65878e585529037cb45b47267a4eaa98', 'page_number': 1}, embedding: vector of size 1024), Document(id=1d2f41287304570fe16bedb00196e1d1fbc991c5dcb052252565cc0d11e56cfb, content: 'redire de ', meta: {'language': 'fr', 'source_id': 'b1be23526f19a8af80a190e775bfd05e65878e585529037cb45b47267a4eaa98', 'page_number': 1}, embedding: vector of size 1024), Document(id=e0313d19cffd6926073b777aadfe95dd9e2e010f6ced6cd1070b9ee0c0bb49bb, content: 'négative, Ils ', meta: {'language': 'fr', 'source_id': 'b1be23526f19a8af80a190e775bfd05e65878e585529037cb45b47267a4eaa98', 'page_number': 1}, embedding: vector of size 1024), Document(id=a3cc4dd7b932ebf31a51a13864b8e4158394d1b76449667783d7a18b7168394d, content: 'étaient a ', meta: {'language': 'fr', 'source_id': 'b1be23526f19a8af80a190e775bfd05e65878e585529037cb45b47267a4eaa98', 'page_number': 1}, embedding: vector of size 1024), Document(id=9ca3450ccc526c8d930df7e2b5a19745dfe8eb021ac956e8e128d46f4fb99eb2, content: 'notre écoute, ', meta: {'language': 'fr', 'source_id': 'b1be23526f19a8af80a190e775bfd05e65878e585529037cb45b47267a4eaa98', 'page_number': 1}, embedding: vector of size 1024), Document(id=4d2614ae88520b6c21ee6b01d823143d5f9ac27920cd8528f4ef42c1a4c550b5, content: 'un gentil ', meta: {'language': 'fr', 'source_id': 'b1be23526f19a8af80a190e775bfd05e65878e585529037cb45b47267a4eaa98', 'page_number': 1}, embedding: vector of size 1024), Document(id=99d3e7c7f64c66506371574062d49beeab9c1b42f1a77c2417981efc7beab1d0, content: 'message tout ', meta: {'language': 'fr', 'source_id': 'b1be23526f19a8af80a190e775bfd05e65878e585529037cb45b47267a4eaa98', 'page_number': 1}, embedding: vector of size 1024), Document(id=e2c615f4369d8cbd5f74b6e33a270db1804de2f59698ec53edb445cb12f72188, content: 'les matins, ', meta: {'language': 'fr', 'source_id': 'b1be23526f19a8af80a190e775bfd05e65878e585529037cb45b47267a4eaa98', 'page_number': 1}, embedding: vector of size 1024), Document(id=5374c212b374ef856e529410261004a80b9138cc707046ff06cf388d0842b4f2, content: 'pour nous ', meta: {'language': 'fr', 'source_id': 'b1be23526f19a8af80a190e775bfd05e65878e585529037cb45b47267a4eaa98', 'page_number': 1}, embedding: vector of size 1024), Document(id=5848f988d9862a755efef57e55d1f164cbe72fe06e5eeb8069d4dc9a1ded5766, content: 'demander si ', meta: {'language': 'fr', 'source_id': 'b1be23526f19a8af80a190e775bfd05e65878e585529037cb45b47267a4eaa98', 'page_number': 1}, embedding: vector of size 1024), Document(id=470c2cc55fd0eb82b240122c6a5740617a1e203273c3b9cfdc80ac207c6aae08, content: 'nous avions ', meta: {'language': 'fr', 'source_id': 'b1be23526f19a8af80a190e775bfd05e65878e585529037cb45b47267a4eaa98', 'page_number': 1}, embedding: vector of size 1024), Document(id=782a138344ee93f01db5a345d2e2b1146731c9bb7379d5b1c2b809224138cbd0, content: 'besoins de ', meta: {'language': 'fr', 'source_id': 'b1be23526f19a8af80a190e775bfd05e65878e585529037cb45b47267a4eaa98', 'page_number': 1}, embedding: vector of size 1024), Document(id=2bd80d4bb856fa5712e58554864e3e635ed7e5d767c9fae2e93618cfd3e7f5f5, content: 'renseignement et ', meta: {'language': 'fr', 'source_id': 'b1be23526f19a8af80a190e775bfd05e65878e585529037cb45b47267a4eaa98', 'page_number': 1}, embedding: vector of size 1024), Document(id=8bcb9966f9534e8c1632e4f7ae30d66155f98b38e5a1fb49111a286b6824722d, content: 'savoir si ', meta: {'language': 'fr', 'source_id': 'b1be23526f19a8af80a190e775bfd05e65878e585529037cb45b47267a4eaa98', 'page_number': 1}, embedding: vector of size 1024), Document(id=8ac8254a1c0a1235aa7229cfcccfacd927f2ae6cfe53fd4d5ee9c3a7c3b6a2f9, content: 'tout allait ', meta: {'language': 'fr', 'source_id': 'b1be23526f19a8af80a190e775bfd05e65878e585529037cb45b47267a4eaa98', 'page_number': 1}, embedding: vector of size 1024), Document(id=56748dbf755f599a6a60d5629b73e2213442b2b13a02f7b7b80560b1673aa1cf, content: 'bien pendant ', meta: {'language': 'fr', 'source_id': 'b1be23526f19a8af80a190e775bfd05e65878e585529037cb45b47267a4eaa98', 'page_number': 1}, embedding: vector of size 1024), Document(id=53c95a35e4e3c5bb44427732d308cb48b71f1dc6d164d954f3360818e51a27cd, content: 'notre séjour.', meta: {'language': 'fr', 'source_id': 'b1be23526f19a8af80a190e775bfd05e65878e585529037cb45b47267a4eaa98', 'page_number': 1}, embedding: vector of size 1024)]\n",
      "Spanish documents  [Document(id=73fe724ff16d28020b1df925e5a23184719ddb69d3f744a874d4ad3b3545a9d2, content: 'El apartamento ', meta: {'language': 'es', 'source_id': '72b094c163b22a660528bc5adbdf0fecf96b4b4d753c1b117f15dba482d2f948', 'page_number': 1}, embedding: vector of size 1024), Document(id=f8cf787ec5b9a6ae514f242690c28946d1ae8334c034a3d1c2ab5e9ca5c5aef5, content: 'estaba genial ', meta: {'language': 'es', 'source_id': '72b094c163b22a660528bc5adbdf0fecf96b4b4d753c1b117f15dba482d2f948', 'page_number': 1}, embedding: vector of size 1024), Document(id=167ee406d2d9d1d14718947c7305acd90ff8a493335338d4e0fed3b4a6f61c7e, content: 'y muy ', meta: {'language': 'es', 'source_id': '72b094c163b22a660528bc5adbdf0fecf96b4b4d753c1b117f15dba482d2f948', 'page_number': 1}, embedding: vector of size 1024), Document(id=fa64220c2f91c0bac250fb93cc1954d8df4e0d1e8ea56e7358b60f6658385507, content: 'céntrico, todo ', meta: {'language': 'es', 'source_id': '72b094c163b22a660528bc5adbdf0fecf96b4b4d753c1b117f15dba482d2f948', 'page_number': 1}, embedding: vector of size 1024), Document(id=88a29c41394c3afb107fa4788824a58c920ba1b83c77862e6a674a6c29caac7f, content: 'a mano. ', meta: {'language': 'es', 'source_id': '72b094c163b22a660528bc5adbdf0fecf96b4b4d753c1b117f15dba482d2f948', 'page_number': 1}, embedding: vector of size 1024), Document(id=43678e691acdc26a225089bda853f96287eeacd15ebd33f9ce5e896ec57f6407, content: 'Al lado ', meta: {'language': 'es', 'source_id': '72b094c163b22a660528bc5adbdf0fecf96b4b4d753c1b117f15dba482d2f948', 'page_number': 1}, embedding: vector of size 1024), Document(id=f1ec277c8433cea75b997ea2cf7823836471555afb5878f16fa02cb9710a729f, content: 'de la ', meta: {'language': 'es', 'source_id': '72b094c163b22a660528bc5adbdf0fecf96b4b4d753c1b117f15dba482d2f948', 'page_number': 1}, embedding: vector of size 1024), Document(id=5c1c472fc63c81d0a6a37e94b362bc688f3f229cfe168dc12abe7eb21a166702, content: 'librería Lello ', meta: {'language': 'es', 'source_id': '72b094c163b22a660528bc5adbdf0fecf96b4b4d753c1b117f15dba482d2f948', 'page_number': 1}, embedding: vector of size 1024), Document(id=a31bb8e4deb40be8812df8875858bc202cde68721b4a138e8aa2cb23196cd871, content: 'y De ', meta: {'language': 'es', 'source_id': '72b094c163b22a660528bc5adbdf0fecf96b4b4d753c1b117f15dba482d2f948', 'page_number': 1}, embedding: vector of size 1024), Document(id=5e5818d3315f26293a633cbe2986b843fb065c9340823724f1f42628fbd314dc, content: 'la Torre ', meta: {'language': 'es', 'source_id': '72b094c163b22a660528bc5adbdf0fecf96b4b4d753c1b117f15dba482d2f948', 'page_number': 1}, embedding: vector of size 1024), Document(id=ebc20892a53f8b3dfc95e6cdc0d2971d4958c3a2489b31b014d55f67324afd7e, content: 'de los ', meta: {'language': 'es', 'source_id': '72b094c163b22a660528bc5adbdf0fecf96b4b4d753c1b117f15dba482d2f948', 'page_number': 1}, embedding: vector of size 1024), Document(id=2f70a3f48f2edee884e55d4d201f050bc38b372e637e3f966ccd837934fe8f76, content: 'clérigos. Está ', meta: {'language': 'es', 'source_id': '72b094c163b22a660528bc5adbdf0fecf96b4b4d753c1b117f15dba482d2f948', 'page_number': 1}, embedding: vector of size 1024), Document(id=6e1c971abc7bbc08588c17814fc7cba8d1740b5dadb2ad67336db92c6154800f, content: 'situado en ', meta: {'language': 'es', 'source_id': '72b094c163b22a660528bc5adbdf0fecf96b4b4d753c1b117f15dba482d2f948', 'page_number': 1}, embedding: vector of size 1024), Document(id=7141f0120e9493da350299e8a2b5ed4a3f0e5339ec02e15b3ec22a2dbb14e2ec, content: 'una zona ', meta: {'language': 'es', 'source_id': '72b094c163b22a660528bc5adbdf0fecf96b4b4d753c1b117f15dba482d2f948', 'page_number': 1}, embedding: vector of size 1024), Document(id=b96bc9569aa1754ddd8183e58bb341dafe17b5e7166f0e58720069b7aa4f2090, content: 'de marcha, ', meta: {'language': 'es', 'source_id': '72b094c163b22a660528bc5adbdf0fecf96b4b4d753c1b117f15dba482d2f948', 'page_number': 1}, embedding: vector of size 1024), Document(id=2c9c89e597480e34e3fc9936b90e5ebaf6ee41301a1fe47ccd3fe82a44b57e42, content: 'así que ', meta: {'language': 'es', 'source_id': '72b094c163b22a660528bc5adbdf0fecf96b4b4d753c1b117f15dba482d2f948', 'page_number': 1}, embedding: vector of size 1024), Document(id=da2b70e3f0167dc86f558be01b839b5df97b1fda8a8c4e283876e2b02be55903, content: 'si vais ', meta: {'language': 'es', 'source_id': '72b094c163b22a660528bc5adbdf0fecf96b4b4d753c1b117f15dba482d2f948', 'page_number': 1}, embedding: vector of size 1024), Document(id=0675aac4720ae2bdbfb37059770aaf5f15de3fcb0e9e28d31f88174c0b608ed3, content: 'en fin ', meta: {'language': 'es', 'source_id': '72b094c163b22a660528bc5adbdf0fecf96b4b4d753c1b117f15dba482d2f948', 'page_number': 1}, embedding: vector of size 1024), Document(id=0687d980e342657445d2f2c2abd7e71095cd62c6a19abddcec0d2389ba376c02, content: 'de semana ', meta: {'language': 'es', 'source_id': '72b094c163b22a660528bc5adbdf0fecf96b4b4d753c1b117f15dba482d2f948', 'page_number': 1}, embedding: vector of size 1024), Document(id=4d71bbf3cebd1d9999112e4e28607de6a45e84279c9483a28255a08e8e426e49, content: ', habrá ', meta: {'language': 'es', 'source_id': '72b094c163b22a660528bc5adbdf0fecf96b4b4d753c1b117f15dba482d2f948', 'page_number': 1}, embedding: vector of size 1024), Document(id=eac4b5d2a6d995123d73e0099bf6871aff40fed4ee9d1b15c6fdb47de2942438, content: 'ruido, aunque ', meta: {'language': 'es', 'source_id': '72b094c163b22a660528bc5adbdf0fecf96b4b4d753c1b117f15dba482d2f948', 'page_number': 1}, embedding: vector of size 1024), Document(id=cc8a9da7cfecaff78985e3c15589d506f799d8527c7d926d83f8754e832014b9, content: 'a nosotros ', meta: {'language': 'es', 'source_id': '72b094c163b22a660528bc5adbdf0fecf96b4b4d753c1b117f15dba482d2f948', 'page_number': 1}, embedding: vector of size 1024), Document(id=367b4ceb8ce1c24cf0bd0c5061dcf41aa2f759b0593d36ade52dfe9cc7debdf2, content: 'no nos ', meta: {'language': 'es', 'source_id': '72b094c163b22a660528bc5adbdf0fecf96b4b4d753c1b117f15dba482d2f948', 'page_number': 1}, embedding: vector of size 1024), Document(id=64c4cff29d6adb2efc1b079a0beecba9389765da6f7b2c90ee56b044c3343d39, content: 'molestaba para ', meta: {'language': 'es', 'source_id': '72b094c163b22a660528bc5adbdf0fecf96b4b4d753c1b117f15dba482d2f948', 'page_number': 1}, embedding: vector of size 1024), Document(id=0fa02f851fddf3048ef0cac14bf9850e178c230be66e7ae4bdcaa2139acfa923, content: 'dormir', meta: {'language': 'es', 'source_id': '72b094c163b22a660528bc5adbdf0fecf96b4b4d753c1b117f15dba482d2f948', 'page_number': 1}, embedding: vector of size 1024), Document(id=56c728fa149ef594a9b02715861b71256536f6cdf48be4c032c40938bd2e485e, content: 'Céntrico. Muy ', meta: {'language': 'es', 'source_id': '4b37b8bdfffccfb3211ea167b4fdc5121ca51fc5f869b4f834e8da473f0d3353', 'page_number': 1}, embedding: vector of size 1024), Document(id=aabb73ce93bdeaa3ad3d3d3bb8698c025937b7889218e8b5f3ab2fcac7e739c8, content: 'cómodo para ', meta: {'language': 'es', 'source_id': '4b37b8bdfffccfb3211ea167b4fdc5121ca51fc5f869b4f834e8da473f0d3353', 'page_number': 1}, embedding: vector of size 1024), Document(id=2ae31dfd5454bfd674c8cd068f38cd28ebe455da0f76bb96a96c03b44de3b618, content: 'moverse y ', meta: {'language': 'es', 'source_id': '4b37b8bdfffccfb3211ea167b4fdc5121ca51fc5f869b4f834e8da473f0d3353', 'page_number': 1}, embedding: vector of size 1024), Document(id=81a7632c1ff0a83e14a9575bc43348b1f6363f2340ae15e70c3ce48bfd647147, content: 'ver Oporto. ', meta: {'language': 'es', 'source_id': '4b37b8bdfffccfb3211ea167b4fdc5121ca51fc5f869b4f834e8da473f0d3353', 'page_number': 1}, embedding: vector of size 1024), Document(id=736969ee6babe238881233aa735a1dedc3118e7cec38a99b8f1bcc1b744458d5, content: 'Edificio con ', meta: {'language': 'es', 'source_id': '4b37b8bdfffccfb3211ea167b4fdc5121ca51fc5f869b4f834e8da473f0d3353', 'page_number': 1}, embedding: vector of size 1024), Document(id=7e324e2e10774fcb848d51456a476a682217a170a705cd299f8a02c4f8802ff7, content: 'terraza propia ', meta: {'language': 'es', 'source_id': '4b37b8bdfffccfb3211ea167b4fdc5121ca51fc5f869b4f834e8da473f0d3353', 'page_number': 1}, embedding: vector of size 1024), Document(id=a21d3313424faa32962ad175c657137e14babcf96f08f9a45845e46f387e846f, content: 'en la ', meta: {'language': 'es', 'source_id': '4b37b8bdfffccfb3211ea167b4fdc5121ca51fc5f869b4f834e8da473f0d3353', 'page_number': 1}, embedding: vector of size 1024), Document(id=4c15ee0534d420fbaf346a48d4606f7dbb7246af287c8b15940864bf27056a43, content: 'última planta. ', meta: {'language': 'es', 'source_id': '4b37b8bdfffccfb3211ea167b4fdc5121ca51fc5f869b4f834e8da473f0d3353', 'page_number': 1}, embedding: vector of size 1024), Document(id=52d3ce9cedc9cbdc5b3488b17ce729f2052f6b770b2bd7c40ee81160da1d637a, content: 'Todo reformado ', meta: {'language': 'es', 'source_id': '4b37b8bdfffccfb3211ea167b4fdc5121ca51fc5f869b4f834e8da473f0d3353', 'page_number': 1}, embedding: vector of size 1024), Document(id=7e02a9411060c9c9b845f52112732d9d47dfd2e3a3ed22b935996c3494f1fe28, content: 'y nuevo. ', meta: {'language': 'es', 'source_id': '4b37b8bdfffccfb3211ea167b4fdc5121ca51fc5f869b4f834e8da473f0d3353', 'page_number': 1}, embedding: vector of size 1024), Document(id=fd5dbf983a547d9c74eadd1f597503551096a3a9c0b0e2ed96a60f3d2fb96bfc, content: 'Te traen ', meta: {'language': 'es', 'source_id': '4b37b8bdfffccfb3211ea167b4fdc5121ca51fc5f869b4f834e8da473f0d3353', 'page_number': 1}, embedding: vector of size 1024), Document(id=bc320c0ddbac2b6614e7bacace17f750396c185aea2715aa7ad111fb86da10e5, content: 'un estupendo ', meta: {'language': 'es', 'source_id': '4b37b8bdfffccfb3211ea167b4fdc5121ca51fc5f869b4f834e8da473f0d3353', 'page_number': 1}, embedding: vector of size 1024), Document(id=31841150111ddc4ceb71f66bc5ec25d8858b89a10d7ce524520e8ffbd3900806, content: 'desayuno todas ', meta: {'language': 'es', 'source_id': '4b37b8bdfffccfb3211ea167b4fdc5121ca51fc5f869b4f834e8da473f0d3353', 'page_number': 1}, embedding: vector of size 1024), Document(id=8994fa4d03323d3829549d90ad9891e977e4a8f0d6b29748df2a2ffdab388a49, content: 'las mañanas ', meta: {'language': 'es', 'source_id': '4b37b8bdfffccfb3211ea167b4fdc5121ca51fc5f869b4f834e8da473f0d3353', 'page_number': 1}, embedding: vector of size 1024), Document(id=d331ebaa65e142a4c5925ea3b4aeb1759c6b4fbc6cc678bf6164a70144038ba0, content: 'al apartamento. ', meta: {'language': 'es', 'source_id': '4b37b8bdfffccfb3211ea167b4fdc5121ca51fc5f869b4f834e8da473f0d3353', 'page_number': 1}, embedding: vector of size 1024), Document(id=5dc83a14f1a021ca1858e619bc469491191e71199af7ecc395c100a8db69518e, content: 'Solo que ', meta: {'language': 'es', 'source_id': '4b37b8bdfffccfb3211ea167b4fdc5121ca51fc5f869b4f834e8da473f0d3353', 'page_number': 1}, embedding: vector of size 1024), Document(id=d5d56d2583f90a482209a7eada7b02fcc6ce92977397e7ce62c6b1c916913714, content: 'se puede ', meta: {'language': 'es', 'source_id': '4b37b8bdfffccfb3211ea167b4fdc5121ca51fc5f869b4f834e8da473f0d3353', 'page_number': 1}, embedding: vector of size 1024), Document(id=7acc23290de38b196b962f725df309a32964f8e3829d1de9d33a99ec851bdce5, content: 'escuchar algo ', meta: {'language': 'es', 'source_id': '4b37b8bdfffccfb3211ea167b4fdc5121ca51fc5f869b4f834e8da473f0d3353', 'page_number': 1}, embedding: vector of size 1024), Document(id=b48b069aa0b1e28406b43ac14a3f06c50bc1d2eec15231139b4933b0ab573054, content: 'de ruido ', meta: {'language': 'es', 'source_id': '4b37b8bdfffccfb3211ea167b4fdc5121ca51fc5f869b4f834e8da473f0d3353', 'page_number': 1}, embedding: vector of size 1024), Document(id=cf785b1bac432f72c134bc03a42106d1d25c351285991ab62fc389707629d298, content: 'calle a ', meta: {'language': 'es', 'source_id': '4b37b8bdfffccfb3211ea167b4fdc5121ca51fc5f869b4f834e8da473f0d3353', 'page_number': 1}, embedding: vector of size 1024), Document(id=b8204d0b5eaa897727fb866db777ae7c5eac8fefc406670333623a0b7181b793, content: 'primeras horas ', meta: {'language': 'es', 'source_id': '4b37b8bdfffccfb3211ea167b4fdc5121ca51fc5f869b4f834e8da473f0d3353', 'page_number': 1}, embedding: vector of size 1024), Document(id=5b30ce6a555c5ad4e53229a299aa4e5078ed717d7d321d3988839d20fb427c18, content: 'de la ', meta: {'language': 'es', 'source_id': '4b37b8bdfffccfb3211ea167b4fdc5121ca51fc5f869b4f834e8da473f0d3353', 'page_number': 1}, embedding: vector of size 1024), Document(id=9f80e0068ef3f668a2d369f26b4f3ae3f5227e91f7a67c84b00df40bf08141c7, content: 'noche. Es ', meta: {'language': 'es', 'source_id': '4b37b8bdfffccfb3211ea167b4fdc5121ca51fc5f869b4f834e8da473f0d3353', 'page_number': 1}, embedding: vector of size 1024), Document(id=f57de1b07c391947994d8488c9534eac49ec193d709b6cf1759002ccbbae86dd, content: 'un zona ', meta: {'language': 'es', 'source_id': '4b37b8bdfffccfb3211ea167b4fdc5121ca51fc5f869b4f834e8da473f0d3353', 'page_number': 1}, embedding: vector of size 1024), Document(id=7fda9154e5ba9bb855ccd1908ca90715044515b151ffead2b816a691274b0066, content: 'de ocio ', meta: {'language': 'es', 'source_id': '4b37b8bdfffccfb3211ea167b4fdc5121ca51fc5f869b4f834e8da473f0d3353', 'page_number': 1}, embedding: vector of size 1024), Document(id=e9a332eeb76a0c90c9fc2d3855ff7835e41119002ecf0e9c5a782c751e93dbe7, content: 'nocturno. Pero ', meta: {'language': 'es', 'source_id': '4b37b8bdfffccfb3211ea167b4fdc5121ca51fc5f869b4f834e8da473f0d3353', 'page_number': 1}, embedding: vector of size 1024), Document(id=3de6ea754f0d8efd17f245d36a50feca4713bf8648f130645b3ba2fa431dd104, content: 'respetan los ', meta: {'language': 'es', 'source_id': '4b37b8bdfffccfb3211ea167b4fdc5121ca51fc5f869b4f834e8da473f0d3353', 'page_number': 1}, embedding: vector of size 1024), Document(id=3816c70239df62b24089398f6cf5312d1b26033ea37be5f18d74f657874fbce0, content: 'horarios.', meta: {'language': 'es', 'source_id': '4b37b8bdfffccfb3211ea167b4fdc5121ca51fc5f869b4f834e8da473f0d3353', 'page_number': 1}, embedding: vector of size 1024)]\n"
     ]
    }
   ],
   "source": [
    "print(\"English documents \", en_document_store.filter_documents())\n",
    "print(\"French documents \", fr_document_store.filter_documents())\n",
    "print(\"Spanish documents \", es_document_store.filter_documents())"
   ]
  },
  {
   "cell_type": "markdown",
   "metadata": {},
   "source": [
    "## Create a Multi-Lingual RAG pipeline\n",
    "\n",
    "TextLanguageRouter will detect the language of the query."
   ]
  },
  {
   "cell_type": "code",
   "execution_count": 51,
   "metadata": {},
   "outputs": [],
   "source": [
    "import os\n",
    "from dotenv import load_dotenv\n",
    "\n",
    "load_dotenv()\n",
    "\n",
    "if not os.getenv(\"OPENAI_API_KEY\"):\n",
    "    raise ValueError(\"OPENAI_API_KEY is required.\")"
   ]
  },
  {
   "cell_type": "markdown",
   "metadata": {},
   "source": [
    "The RAG will allow users to query about an accomodation in the language they chose."
   ]
  },
  {
   "cell_type": "code",
   "execution_count": 66,
   "metadata": {},
   "outputs": [],
   "source": [
    "from haystack.components.retrievers.in_memory import InMemoryEmbeddingRetriever\n",
    "from haystack.components.joiners import DocumentJoiner\n",
    "from haystack.components.builders import PromptBuilder\n",
    "from haystack.components.generators import OpenAIGenerator\n",
    "from haystack.components.routers import TextLanguageRouter\n",
    "from haystack.components.embedders import SentenceTransformersTextEmbedder\n",
    "\n",
    "prompt_template = \"\"\"\n",
    "You will be provided with reviews for an accomodation.\n",
    "Answer the question concisely based solely on the given reviews.\n",
    "\n",
    "Reviews:\n",
    "{% for doc in documents %}\n",
    "    {{ documents }}\n",
    "{% endfor %}\n",
    "\n",
    "Question: {{query}}\n",
    "Answer:\n",
    "\n",
    "\"\"\"\n"
   ]
  },
  {
   "cell_type": "markdown",
   "metadata": {},
   "source": [
    "Build the Pipeline\n",
    "\n",
    "BM25Retriever does keyword matching, which is not as accurate as other search methods. IN order to make the LLM responses more precise, we will use the EmbeddingRetriever which performs vector search over the documents"
   ]
  },
  {
   "cell_type": "code",
   "execution_count": 67,
   "metadata": {},
   "outputs": [
    {
     "data": {
      "text/plain": [
       "<haystack.core.pipeline.pipeline.Pipeline object at 0x74f174d6a5d0>\n",
       "🚅 Components\n",
       "  - router: TextLanguageRouter\n",
       "  - en_embedder: SentenceTransformersTextEmbedder\n",
       "  - es_embedder: SentenceTransformersTextEmbedder\n",
       "  - fr_embedder: SentenceTransformersTextEmbedder\n",
       "  - en_retriever: InMemoryEmbeddingRetriever\n",
       "  - fr_retriever: InMemoryEmbeddingRetriever\n",
       "  - es_retriever: InMemoryEmbeddingRetriever\n",
       "  - joiner: DocumentJoiner\n",
       "  - prompt_builder: PromptBuilder\n",
       "  - llm: OpenAIGenerator\n",
       "🛤️ Connections\n",
       "  - router.en -> en_embedder.text (str)\n",
       "  - router.es -> es_embedder.text (str)\n",
       "  - router.fr -> fr_embedder.text (str)\n",
       "  - en_embedder.embedding -> en_retriever.query_embedding (List[float])\n",
       "  - es_embedder.embedding -> es_retriever.query_embedding (List[float])\n",
       "  - fr_embedder.embedding -> fr_retriever.query_embedding (List[float])\n",
       "  - en_retriever.documents -> joiner.documents (List[Document])\n",
       "  - fr_retriever.documents -> joiner.documents (List[Document])\n",
       "  - es_retriever.documents -> joiner.documents (List[Document])\n",
       "  - joiner.documents -> prompt_builder.documents (List[Document])\n",
       "  - prompt_builder.prompt -> llm.prompt (str)"
      ]
     },
     "execution_count": 67,
     "metadata": {},
     "output_type": "execute_result"
    }
   ],
   "source": [
    "rag_pipeline = Pipeline()\n",
    "rag_pipeline.add_component(instance=TextLanguageRouter([\"en\", \"fr\", \"es\"]), name=\"router\")\n",
    "rag_pipeline.add_component(instance=SentenceTransformersTextEmbedder(\"thenlper/gte-large\"), name=\"en_embedder\")\n",
    "rag_pipeline.add_component(instance=SentenceTransformersTextEmbedder(\"thenlper/gte-large\"), name=\"es_embedder\")\n",
    "rag_pipeline.add_component(instance=SentenceTransformersTextEmbedder(\"thenlper/gte-large\"), name=\"fr_embedder\")\n",
    "\n",
    "rag_pipeline.add_component(instance=InMemoryEmbeddingRetriever(document_store=en_document_store), name=\"en_retriever\")\n",
    "rag_pipeline.add_component(instance=InMemoryEmbeddingRetriever(document_store=fr_document_store), name=\"fr_retriever\")\n",
    "rag_pipeline.add_component(instance=InMemoryEmbeddingRetriever(document_store=es_document_store), name=\"es_retriever\")\n",
    "rag_pipeline.add_component(instance=DocumentJoiner(), name=\"joiner\")\n",
    "rag_pipeline.add_component(instance=PromptBuilder(template=prompt_template), name=\"prompt_builder\")\n",
    "rag_pipeline.add_component(instance=OpenAIGenerator(), name=\"llm\")\n",
    "\n",
    "rag_pipeline.connect(\"router.en\", \"en_embedder\")\n",
    "rag_pipeline.connect(\"router.es\", \"es_embedder\")\n",
    "rag_pipeline.connect(\"router.fr\", \"fr_embedder\")\n",
    "\n",
    "rag_pipeline.connect(\"en_embedder.embedding\", \"en_retriever.query_embedding\")\n",
    "rag_pipeline.connect(\"es_embedder.embedding\", \"es_retriever.query_embedding\")\n",
    "rag_pipeline.connect(\"fr_embedder.embedding\", \"fr_retriever.query_embedding\")\n",
    "\n",
    "rag_pipeline.connect(\"en_retriever\", \"joiner\")\n",
    "rag_pipeline.connect(\"es_retriever\", \"joiner\")\n",
    "rag_pipeline.connect(\"fr_retriever\", \"joiner\")\n",
    "rag_pipeline.connect(\"joiner.documents\", \"prompt_builder.documents\")\n",
    "rag_pipeline.connect(\"prompt_builder\", \"llm\")"
   ]
  },
  {
   "cell_type": "code",
   "execution_count": 68,
   "metadata": {},
   "outputs": [],
   "source": [
    "rag_pipeline.draw(\"rag_pipeline.png\")"
   ]
  },
  {
   "cell_type": "code",
   "execution_count": 69,
   "metadata": {},
   "outputs": [
    {
     "name": "stderr",
     "output_type": "stream",
     "text": [
      "Batches: 100%|██████████| 1/1 [00:00<00:00, 34.99it/s]\n"
     ]
    }
   ],
   "source": [
    "en_question = \"Is this apartment conveniently located?\"\n",
    "\n",
    "result = rag_pipeline.run({\n",
    "    \"router\": {\n",
    "        \"text\": en_question # we use this because our first contact router requires a text\n",
    "    },\n",
    "    \"prompt_builder\": {\n",
    "        \"query\": en_question # our prompt template requires this\n",
    "    }\n",
    "})"
   ]
  },
  {
   "cell_type": "code",
   "execution_count": 63,
   "metadata": {},
   "outputs": [
    {
     "name": "stdout",
     "output_type": "stream",
     "text": [
      "The accomodation is convenient.\n"
     ]
    }
   ],
   "source": [
    "print(result[\"llm\"][\"replies\"][0])"
   ]
  },
  {
   "cell_type": "code",
   "execution_count": 74,
   "metadata": {},
   "outputs": [
    {
     "name": "stderr",
     "output_type": "stream",
     "text": [
      "Batches: 100%|██████████| 1/1 [00:00<00:00, 87.91it/s]\n"
     ]
    }
   ],
   "source": [
    "es_question = \"¿El desayuno es genial?\" # Is the breakfast great?\n",
    "\n",
    "result = rag_pipeline.run({\"router\": {\"text\": es_question}, \"prompt_builder\": {\"query\": es_question}})\n"
   ]
  },
  {
   "cell_type": "code",
   "execution_count": 76,
   "metadata": {},
   "outputs": [
    {
     "name": "stdout",
     "output_type": "stream",
     "text": [
      "Sí.\n"
     ]
    }
   ],
   "source": [
    "print(result[\"llm\"][\"replies\"][0]) # Yes\n"
   ]
  }
 ],
 "metadata": {
  "kernelspec": {
   "display_name": "env",
   "language": "python",
   "name": "python3"
  },
  "language_info": {
   "codemirror_mode": {
    "name": "ipython",
    "version": 3
   },
   "file_extension": ".py",
   "mimetype": "text/x-python",
   "name": "python",
   "nbconvert_exporter": "python",
   "pygments_lexer": "ipython3",
   "version": "3.11.5"
  }
 },
 "nbformat": 4,
 "nbformat_minor": 2
}
