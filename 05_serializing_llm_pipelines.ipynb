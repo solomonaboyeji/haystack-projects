{
 "cells": [
  {
   "cell_type": "markdown",
   "metadata": {},
   "source": [
    "### Serializing LLM Pipelines\n",
    "\n",
    "Serialization will help us to convert our pipelines to a format that we can save on our disk and load later. It can be saved on the database and also get sent over the network etc."
   ]
  },
  {
   "cell_type": "markdown",
   "metadata": {},
   "source": [
    "### Creating a Simple Pipeline\n",
    "A pipeline that expects a topic from the user, and generates a summary about the topic with `google/flan-t5-large`"
   ]
  },
  {
   "cell_type": "code",
   "execution_count": 3,
   "metadata": {},
   "outputs": [
    {
     "data": {
      "text/plain": [
       "<haystack.core.pipeline.pipeline.Pipeline object at 0x7472aedf40d0>\n",
       "🚅 Components\n",
       "  - builder: PromptBuilder\n",
       "  - llm: HuggingFaceLocalGenerator\n",
       "🛤️ Connections\n",
       "  - builder.prompt -> llm.prompt (str)"
      ]
     },
     "execution_count": 3,
     "metadata": {},
     "output_type": "execute_result"
    }
   ],
   "source": [
    "from haystack import Pipeline\n",
    "from haystack.components.builders import PromptBuilder\n",
    "from haystack.components.generators import HuggingFaceLocalGenerator\n",
    "\n",
    "template = \"\"\"\n",
    "Please create a summary about the following topic:\n",
    "{{topic}}\n",
    "\"\"\"\n",
    "\n",
    "builder = PromptBuilder(template=template)\n",
    "llm = HuggingFaceLocalGenerator(\n",
    "    model=\"google/flan-t5-large\", task=\"text2text-generation\", generation_kwargs={\"max_new_tokens\": 150}\n",
    ")\n",
    "\n",
    "pipeline = Pipeline()\n",
    "pipeline.add_component(name=\"builder\", instance=builder)\n",
    "pipeline.add_component(name=\"llm\", instance=llm)\n",
    "\n",
    "pipeline.connect(\"builder\", \"llm\")"
   ]
  },
  {
   "cell_type": "code",
   "execution_count": 6,
   "metadata": {},
   "outputs": [
    {
     "name": "stdout",
     "output_type": "stream",
     "text": [
      "Climate change is a major threat to the planet.\n"
     ]
    }
   ],
   "source": [
    "topic = \"Climate Change\"\n",
    "result = pipeline.run(data={\"builder\": {\"topic\": topic}})\n",
    "print(result[\"llm\"][\"replies\"][0])"
   ]
  },
  {
   "cell_type": "markdown",
   "metadata": {},
   "source": [
    "#### Serialize the Pipeline to YAML\n",
    "\n",
    "Out of the box, Haystack supports YAML. Use dumps to convert the Pipeline to YAML"
   ]
  },
  {
   "cell_type": "code",
   "execution_count": 8,
   "metadata": {},
   "outputs": [
    {
     "name": "stdout",
     "output_type": "stream",
     "text": [
      "components:\n",
      "  builder:\n",
      "    init_parameters:\n",
      "      required_variables: null\n",
      "      template: '\n",
      "\n",
      "        Please create a summary about the following topic:\n",
      "\n",
      "        {{topic}}\n",
      "\n",
      "        '\n",
      "      variables: null\n",
      "    type: haystack.components.builders.prompt_builder.PromptBuilder\n",
      "  llm:\n",
      "    init_parameters:\n",
      "      generation_kwargs:\n",
      "        max_new_tokens: 150\n",
      "      huggingface_pipeline_kwargs:\n",
      "        device: cuda:0\n",
      "        model: google/flan-t5-large\n",
      "        task: text2text-generation\n",
      "      stop_words: null\n",
      "      streaming_callback: null\n",
      "      token:\n",
      "        env_vars:\n",
      "        - HF_API_TOKEN\n",
      "        strict: false\n",
      "        type: env_var\n",
      "    type: haystack.components.generators.hugging_face_local.HuggingFaceLocalGenerator\n",
      "connections:\n",
      "- receiver: llm.prompt\n",
      "  sender: builder.prompt\n",
      "max_loops_allowed: 100\n",
      "metadata: {}\n",
      "\n"
     ]
    }
   ],
   "source": [
    "yaml_pipeline = pipeline.dumps()\n",
    "\n",
    "print(yaml_pipeline)"
   ]
  },
  {
   "cell_type": "markdown",
   "metadata": {},
   "source": [
    "### Edit the pipeline  in yaml\n",
    "Translate to french and run on CPU instead of GPU"
   ]
  },
  {
   "cell_type": "code",
   "execution_count": 9,
   "metadata": {},
   "outputs": [],
   "source": [
    "# \n",
    "\n",
    "yaml_pipeline = \"\"\"\n",
    "components:\n",
    "  builder:\n",
    "    init_parameters:\n",
    "      template: \"\\nPlease translate the following to French: \\n{{ sentence }}\\n\"\n",
    "    type: haystack.components.builders.prompt_builder.PromptBuilder\n",
    "  llm:\n",
    "    init_parameters:\n",
    "      generation_kwargs:\n",
    "        max_new_tokens: 150\n",
    "      huggingface_pipeline_kwargs:\n",
    "        device: cpu\n",
    "        model: google/flan-t5-large\n",
    "        task: text2text-generation\n",
    "        token: null\n",
    "      stop_words: null\n",
    "    type: haystack.components.generators.hugging_face_local.HuggingFaceLocalGenerator\n",
    "connections:\n",
    "- receiver: llm.prompt\n",
    "  sender: builder.prompt\n",
    "max_loops_allowed: 100\n",
    "metadata: {}\n",
    "\"\"\"\n"
   ]
  },
  {
   "cell_type": "markdown",
   "metadata": {},
   "source": [
    "### Deserializing a YAML Pipeline back to Python\n",
    "\n",
    "Use the .loads()"
   ]
  },
  {
   "cell_type": "code",
   "execution_count": 10,
   "metadata": {},
   "outputs": [
    {
     "data": {
      "text/plain": [
       "{'llm': {'replies': ['Nigeria, un pays en pleine créativité!']}}"
      ]
     },
     "execution_count": 10,
     "metadata": {},
     "output_type": "execute_result"
    }
   ],
   "source": [
    "from haystack import Pipeline\n",
    "from haystack.components.builders import PromptBuilder\n",
    "from haystack.components.generators import HuggingFaceLocalGenerator\n",
    "\n",
    "new_pipeline = Pipeline.loads(yaml_pipeline)\n",
    "new_pipeline.run(data={\n",
    "    \"builder\": {\n",
    "        \"sentence\": \"Nigeria, a country filled with promising talents!\"\n",
    "    }\n",
    "})"
   ]
  }
 ],
 "metadata": {
  "kernelspec": {
   "display_name": "env",
   "language": "python",
   "name": "python3"
  },
  "language_info": {
   "codemirror_mode": {
    "name": "ipython",
    "version": 3
   },
   "file_extension": ".py",
   "mimetype": "text/x-python",
   "name": "python",
   "nbconvert_exporter": "python",
   "pygments_lexer": "ipython3",
   "version": "3.11.5"
  }
 },
 "nbformat": 4,
 "nbformat_minor": 2
}
